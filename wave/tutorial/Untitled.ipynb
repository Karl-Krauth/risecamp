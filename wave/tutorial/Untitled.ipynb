{
 "cells": [
  {
   "cell_type": "markdown",
   "metadata": {},
   "source": [
    "# WAVE tutorial: a smart home\n",
    "\n",
    "WAVE is platform for delegable authorization. We are going to test it out by looking at some use cases in a smart home context. You can also use WAVE for securing other things, like APIs, but this is a fun tutorial to cover the basics.\n",
    "\n",
    "## Getting started\n",
    "\n",
    "The lines below will \"boot\" your house. There is a home server that acts as the root of authority for your house and all its devices. Give your house a unique nickname, as later you will be accessing data from other people's houses. "
   ]
  },
  {
   "cell_type": "code",
   "execution_count": 1,
   "metadata": {
    "scrolled": false
   },
   "outputs": [
    {
     "data": {
      "application/vnd.jupyter.widget-view+json": {
       "model_id": "bd813ac3e74447a2913c943a40a1e7a4",
       "version_major": 2,
       "version_minor": 0
      },
      "text/plain": [
       "Light(children=(Image(value=b'\\x89PNG\\r\\n\\x1a\\n\\x00\\x00\\x00\\rIHDR\\x00\\x00\\x00K\\x00\\x00\\x00x\\x08\\x06\\x00\\x00\\x0…"
      ]
     },
     "metadata": {},
     "output_type": "display_data"
    },
    {
     "data": {
      "application/vnd.jupyter.widget-view+json": {
       "model_id": "37e62dac85f34b3086ef33dcadd386da",
       "version_major": 2,
       "version_minor": 0
      },
      "text/plain": [
       "Switch(value=False, button_style='success', description='Turn Light On')"
      ]
     },
     "metadata": {},
     "output_type": "display_data"
    },
    {
     "data": {
      "application/vnd.jupyter.widget-view+json": {
       "model_id": "294909c5945b44c99ca385ccdcbb50a5",
       "version_major": 2,
       "version_minor": 0
      },
      "text/plain": [
       "Thermostat(children=(Image(value=b'\\x89PNG\\r\\n\\x1a\\n\\x00\\x00\\x00\\rIHDR\\x00\\x00\\x05\\xdc\\x00\\x00\\x04\\x04\\x08\\x02…"
      ]
     },
     "metadata": {},
     "output_type": "display_data"
    },
    {
     "name": "stdout",
     "output_type": "stream",
     "text": [
      "got message on: john-smith/smarthome/light/report\n",
      "checking match\n",
      "calling\n",
      "got: {'state': 'on'}\n",
      "got message on: john-smith/smarthome/light/report\n",
      "checking match\n",
      "calling\n",
      "got: {'state': 'off'}\n",
      "got message on: john-smith/smarthome/light/report\n",
      "checking match\n",
      "calling\n",
      "got: {'state': 'on'}\n"
     ]
    }
   ],
   "source": [
    "from tut import *\n",
    "my_unique_nickname=\"john-smith\"\n",
    "# wave is a connection to the WAVE daemon, that you will use for authorization actions\n",
    "# homeserver is the control interface to your home server, allowing you to request permissions etc.\n",
    "# mqtt is a connection to the rise camp MQTT server that routes all commands and sensor information \n",
    "wave, homeserver, mqtt = Initialize(my_unique_nickname)"
   ]
  },
  {
   "cell_type": "markdown",
   "metadata": {},
   "source": [
    "## Creating your entity\n",
    "\n",
    "An *entity* represents a person or device. Your home server has an entity which is the root of permissions in the house, but every occupant of the house also needs their own entity so they can be granted permissions to interact with the house. Go ahead and create your entity by running the command below. \n",
    "\n",
    "Note that usually the command would be `entity = wave.CreateEntity(wv.CreateEntityParams())` but to make sure you don't lose your entity if you restart the notebook, we have made a wrapper that saves it to disk"
   ]
  },
  {
   "cell_type": "code",
   "execution_count": 2,
   "metadata": {},
   "outputs": [],
   "source": [
    "entity, _ = createOrLoadEntity(wave, \"myEntity\")\n",
    "\n",
    "# a perspective is the form of an entity you use in calls to WAVE\n",
    "perspective = wv.Perspective(entitySecret=wv.EntitySecret(DER=entity.SecretDER))"
   ]
  },
  {
   "cell_type": "markdown",
   "metadata": {},
   "source": [
    "## Proofs of permission\n",
    "\n",
    "Let's try control the house with this brand new entity. To do so, we need to form a *proof of permissions*:\n"
   ]
  },
  {
   "cell_type": "code",
   "execution_count": 3,
   "metadata": {},
   "outputs": [
    {
     "name": "stdout",
     "output_type": "stream",
     "text": [
      "Proof building succeeeded\n"
     ]
    }
   ],
   "source": [
    "proof = wave.BuildRTreeProof(wv.BuildRTreeProofParams(\n",
    "    # our secret entity perspective\n",
    "    perspective=perspective,\n",
    "    # the domain of authority we are accessing\n",
    "    namespace=homeserver.namespace(),\n",
    "    # what we want to prove\n",
    "    statements=[\n",
    "        wv.RTreePolicyStatement(\n",
    "            permissionSet=smarthome_pset,\n",
    "            permissions=[\"write\"],\n",
    "            resource=\"smarthome/light/control\",\n",
    "        )\n",
    "    ]\n",
    "))\n",
    "\n",
    "# lets check if that worked:\n",
    "if proof.error.code != 0:\n",
    "    print (\"Proof building failed:\", proof.error.message)\n",
    "else:\n",
    "    print (\"Proof building succeeeded\")"
   ]
  },
  {
   "cell_type": "markdown",
   "metadata": {},
   "source": [
    "If this is the first time you've run the notebook, the above will fail. This is because this newly created entity has not been granted any permissions! Why should it be able to control the house? In real life, you would now communicate with a person/service that has the permissions you want and give them your entity hash. With this, they can grant you permissions. We will emulate that with a simple function call:"
   ]
  },
  {
   "cell_type": "code",
   "execution_count": null,
   "metadata": {},
   "outputs": [],
   "source": [
    "homeserver.grant_permissions_to(entity.hash)"
   ]
  },
  {
   "cell_type": "markdown",
   "metadata": {},
   "source": [
    "That grants you permissions to everything within the house, later we will do a permission grant from scratch, so you can see how it is done. For now, lets try building a proof again:"
   ]
  },
  {
   "cell_type": "code",
   "execution_count": null,
   "metadata": {},
   "outputs": [],
   "source": [
    "proof = wave.BuildRTreeProof(wv.BuildRTreeProofParams(\n",
    "    # our secret entity perspective\n",
    "    perspective=perspective,\n",
    "    # the domain of authority we are accessing\n",
    "    namespace=homeserver.namespace(),\n",
    "    # what we want to prove\n",
    "    statements=[\n",
    "        wv.RTreePolicyStatement(\n",
    "            permissionSet=smarthome_pset,\n",
    "            permissions=[\"write\"],\n",
    "            resource=\"smarthome/light/control\",\n",
    "        )\n",
    "    ]\n",
    "))\n",
    "\n",
    "if proof.error.code != 0:\n",
    "    print (\"Proof building failed:\", proof.error.message)\n",
    "else:\n",
    "    print (\"Proof building succeeeded\")"
   ]
  },
  {
   "cell_type": "markdown",
   "metadata": {},
   "source": [
    "This should succeed. We can now attach this proof to a command we send to the light, and it will obey the command because it can verify we are authorized. For this demo, the smart home devices rendered at the top of the notebook are listening for commands on an MQTT topic unique to your nickname."
   ]
  },
  {
   "cell_type": "code",
   "execution_count": 9,
   "metadata": {},
   "outputs": [
    {
     "name": "stdout",
     "output_type": "stream",
     "text": [
      "john-smith/smarthome/light/control\n",
      "got light command\n",
      "\n"
     ]
    }
   ],
   "source": [
    "_ = mqtt.publish(my_unique_nickname+\"/smarthome/light/control\",\n",
    "#                      you can also use {\"state\":\"off\"}\n",
    "                  composeMessage(proof, {\"state\":\"off\"}))"
   ]
  },
  {
   "cell_type": "markdown",
   "metadata": {},
   "source": [
    "If you scroll to the top of the notebook, you should see that your light has turned on. Let's walk through how you would decrypt and validate a message that you receive. Let's subscribe to the thermostat report topic:"
   ]
  },
  {
   "cell_type": "code",
   "execution_count": 5,
   "metadata": {},
   "outputs": [
    {
     "name": "stdout",
     "output_type": "stream",
     "text": [
      "subscribing to john-smith/smarthome/light/report\n"
     ]
    }
   ],
   "source": [
    "def thermostat_cb(msg):\n",
    "    # first decrypt the message\n",
    "    resp = wave.DecryptMessage(wv.DecryptMessageParams(\n",
    "        perspective= perspective,\n",
    "        ciphertext= msg.payload,\n",
    "        resyncFirst= True))\n",
    "    if resp.error.code != 0:\n",
    "        print (\"dropping thermostat message:\", resp.error.message)\n",
    "        return\n",
    "    # then break it up into proof + body\n",
    "    proof, body = decomposeMessage(resp.content)\n",
    "    \n",
    "    # now validate the proof\n",
    "    resp = wave.VerifyProof(wv.VerifyProofParams(\n",
    "        proofDER=proof,\n",
    "        requiredRTreePolicy=wv.RTreePolicy(\n",
    "            namespace=homeserver.namespace(),\n",
    "            statements=[wv.RTreePolicyStatement(\n",
    "                permissionSet=smarthome_pset,\n",
    "                permissions=[\"write\"],\n",
    "                resource=\"smarthome/light/report\",\n",
    "            )]\n",
    "        )\n",
    "    ))\n",
    "    if resp.error.code != 0:\n",
    "        print (\"dropping message: \", resp.error.message)\n",
    "        \n",
    "    # the proof is valid!\n",
    "    print (\"got:\", body)\n",
    "    # now split it into proof and payload:\n",
    "# todo change back to thermostat\n",
    "mqtt.subscribe(my_unique_nickname+\"/smarthome/light/report\", thermostat_cb)"
   ]
  },
  {
   "cell_type": "code",
   "execution_count": null,
   "metadata": {},
   "outputs": [],
   "source": [
    "\n",
    "\n",
    "# test encryption/decryption\n",
    "msg = \"hello world\"\n",
    "uri = \"smarthome/light/result\"\n",
    "encryptResult = wave.EncryptMessage(\n",
    "    wv.EncryptMessageParams(\n",
    "        namespace=homeserver.namespace(), \n",
    "        resource=uri, \n",
    "        content=bytes(msg,\"utf8\")))\n",
    "print(encryptResult)\n",
    "\n",
    "# try decrypt it\n",
    "decryptResult1 = wave.DecryptMessage(\n",
    "    wv.DecryptMessageParams(\n",
    "        perspective= perspective,\n",
    "        ciphertext= encryptResult.ciphertext,\n",
    "        resyncFirst= True))\n",
    "\n",
    "print (decryptResult1)\n",
    "\n",
    "# grant permissions from the home server to us\n",
    "homeserver.grant_permissions_to(entity.hash)\n",
    "\n",
    "# try decrypt again\n",
    "decryptResult2 = wave.DecryptMessage(\n",
    "    wv.DecryptMessageParams(\n",
    "        perspective= perspective,\n",
    "        ciphertext= encryptResult.ciphertext,\n",
    "        resyncFirst= True))\n",
    "\n",
    "print (decryptResult2)"
   ]
  },
  {
   "cell_type": "code",
   "execution_count": null,
   "metadata": {},
   "outputs": [],
   "source": [
    "\n",
    "entity = agent.CreateEntity(wv.CreateEntityParams())\n",
    "if entity.error.code != 0:\n",
    "    raise Exception(entity.error)\n",
    "agent.PublishEntity(wv.PublishEntityParams(DER=entity.PublicDER))\n",
    "perspective=wv.Perspective(\n",
    "    entitySecret=wv.EntitySecret(DER=entity.SecretDER)\n",
    ")\n",
    "proof = agent.BuildRTreeProof(wv.BuildRTreeProofParams(\n",
    "    perspective=perspective,\n",
    "    namespace=hs.namespace(),\n",
    "    resyncFirst=True,\n",
    "    statements=[\n",
    "        wv.RTreePolicyStatement(\n",
    "            permissionSet=smarthome_pset,\n",
    "            permissions=[\"actuate\"],\n",
    "            resource=\"smarthome/light/control\",\n",
    "        )\n",
    "    ]\n",
    "))\n",
    "# should have no permissions\n",
    "print (\"first attempt without permissions:\")\n",
    "print (proof.error)\n",
    "\n",
    "hs.grant_permissions_to(entity.hash)\n",
    "proof2 = agent.BuildRTreeProof(wv.BuildRTreeProofParams(\n",
    "    perspective=perspective,\n",
    "    namespace=hs.namespace(),\n",
    "    resyncFirst=True,\n",
    "    statements=[\n",
    "        wv.RTreePolicyStatement(\n",
    "            permissionSet=smarthome_pset,\n",
    "            permissions=[\"write\"],\n",
    "            resource=\"smarthome/light/control\",\n",
    "        ),\n",
    "      wv.RTreePolicyStatement(\n",
    "            permissionSet=smarthome_pset,\n",
    "            permissions=[\"read\"],\n",
    "            resource=\"smarthome/light/report\",\n",
    "        )\n",
    "    ]\n",
    "))\n",
    "if proof2.error.code != 0:\n",
    "    raise Exception(proof2.error)"
   ]
  },
  {
   "cell_type": "code",
   "execution_count": null,
   "metadata": {},
   "outputs": [],
   "source": [
    "packed = pack_payload(proof2.proofDER, json.dumps({'state': 'on'}))\n",
    "client.publish(\"michael/smarthome/light/control\", packed)"
   ]
  },
  {
   "cell_type": "code",
   "execution_count": null,
   "metadata": {},
   "outputs": [],
   "source": [
    "packed = pack_payload(proof3.proofDER, json.dumps({'hsp': 68}))\n",
    "client.publish(\"michael/smarthome/thermostat/control\", packed)"
   ]
  },
  {
   "cell_type": "code",
   "execution_count": null,
   "metadata": {},
   "outputs": [],
   "source": []
  }
 ],
 "metadata": {
  "kernelspec": {
   "display_name": "Python 3",
   "language": "python",
   "name": "python3"
  },
  "language_info": {
   "codemirror_mode": {
    "name": "ipython",
    "version": 3
   },
   "file_extension": ".py",
   "mimetype": "text/x-python",
   "name": "python",
   "nbconvert_exporter": "python",
   "pygments_lexer": "ipython3",
   "version": "3.6.3"
  }
 },
 "nbformat": 4,
 "nbformat_minor": 2
}
