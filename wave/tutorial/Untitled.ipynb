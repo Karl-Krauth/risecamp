{
 "cells": [
  {
   "cell_type": "code",
   "execution_count": 1,
   "metadata": {
    "scrolled": false
   },
   "outputs": [
    {
     "data": {
      "application/vnd.jupyter.widget-view+json": {
       "model_id": "e33570d8600947959a91f173f6b2d2e3",
       "version_major": 2,
       "version_minor": 0
      },
      "text/plain": [
       "Light(children=(Image(value=b'\\x89PNG\\r\\n\\x1a\\n\\x00\\x00\\x00\\rIHDR\\x00\\x00\\x00K\\x00\\x00\\x00x\\x08\\x06\\x00\\x00\\x0…"
      ]
     },
     "metadata": {},
     "output_type": "display_data"
    },
    {
     "data": {
      "application/vnd.jupyter.widget-view+json": {
       "model_id": "f8a75cf145cd412291f3b6a282f1f944",
       "version_major": 2,
       "version_minor": 0
      },
      "text/plain": [
       "Switch(value=False, button_style='success', description='Turn Light On')"
      ]
     },
     "metadata": {},
     "output_type": "display_data"
    },
    {
     "data": {
      "application/vnd.jupyter.widget-view+json": {
       "model_id": "7fb5eb1c36fe4183aec5eaf78288c59f",
       "version_major": 2,
       "version_minor": 0
      },
      "text/plain": [
       "Thermostat(children=(Image(value=b'\\x89PNG\\r\\n\\x1a\\n\\x00\\x00\\x00\\rIHDR\\x00\\x00\\x05\\xdc\\x00\\x00\\x04\\x04\\x08\\x02…"
      ]
     },
     "metadata": {},
     "output_type": "display_data"
    },
    {
     "name": "stdout",
     "output_type": "stream",
     "text": [
      "first attempt without permissions:\n",
      "code: 911\n",
      "message: \"(911: couldn\\'t find a proof)\"\n",
      "\n"
     ]
    }
   ],
   "source": [
    "from tut import *"
   ]
  },
  {
   "cell_type": "code",
   "execution_count": 2,
   "metadata": {},
   "outputs": [
    {
     "data": {
      "text/plain": [
       "<paho.mqtt.client.MQTTMessageInfo at 0x7f7e8b0b6138>"
      ]
     },
     "execution_count": 2,
     "metadata": {},
     "output_type": "execute_result"
    }
   ],
   "source": [
    "packed = pack_payload(proof2.proofDER, json.dumps({'state': 'on'}))\n",
    "client.publish(\"michael/smarthome/light/control\", packed)"
   ]
  },
  {
   "cell_type": "code",
   "execution_count": 3,
   "metadata": {},
   "outputs": [
    {
     "data": {
      "text/plain": [
       "<paho.mqtt.client.MQTTMessageInfo at 0x7f7e8b0b6728>"
      ]
     },
     "execution_count": 3,
     "metadata": {},
     "output_type": "execute_result"
    },
    {
     "name": "stdout",
     "output_type": "stream",
     "text": [
      "michael/smarthome/light/control\n",
      "got light command\n",
      "\n",
      "michael/smarthome/thermostat/control\n",
      "thermostat command {'hsp': 70, 'csp': 78}\n",
      "michael/smarthome/light/control\n",
      "got light command\n",
      "\n",
      "michael/smarthome/thermostat/control\n",
      "thermostat command {'hsp': 68}\n"
     ]
    }
   ],
   "source": [
    "packed = pack_payload(proof3.proofDER, json.dumps({'hsp': 68}))\n",
    "client.publish(\"michael/smarthome/thermostat/control\", packed)"
   ]
  },
  {
   "cell_type": "code",
   "execution_count": null,
   "metadata": {},
   "outputs": [],
   "source": []
  }
 ],
 "metadata": {
  "kernelspec": {
   "display_name": "Python 3",
   "language": "python",
   "name": "python3"
  },
  "language_info": {
   "codemirror_mode": {
    "name": "ipython",
    "version": 3
   },
   "file_extension": ".py",
   "mimetype": "text/x-python",
   "name": "python",
   "nbconvert_exporter": "python",
   "pygments_lexer": "ipython3",
   "version": "3.6.3"
  }
 },
 "nbformat": 4,
 "nbformat_minor": 2
}
