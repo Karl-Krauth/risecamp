{
 "cells": [
  {
   "cell_type": "markdown",
   "metadata": {},
   "source": [
    "# WAVE tutorial: a smart home\n",
    "\n",
    "WAVE is platform for delegable authorization. We are going to test it out by looking at some use cases in a smart home context. You can also use WAVE for securing other things, like APIs, but this is a fun tutorial to cover the basics.\n",
    "\n",
    "## Getting started\n",
    "\n",
    "The lines below will \"boot\" your house. There is a home server that acts as the root of authority for your house and all its devices. Give your house a unique nickname, as later you will be accessing data from other people's houses. "
   ]
  },
  {
   "cell_type": "code",
   "execution_count": 1,
   "metadata": {
    "scrolled": false
   },
   "outputs": [
    {
     "data": {
      "application/vnd.jupyter.widget-view+json": {
       "model_id": "9dd97229ad6c4dd0a26dc6dcdf64a6fc",
       "version_major": 2,
       "version_minor": 0
      },
      "text/plain": [
       "VBox(children=(HBox(children=(VBox(children=(Light(children=(Image(value=b'\\x89PNG\\r\\n\\x1a\\n\\x00\\x00\\x00\\rIHDR…"
      ]
     },
     "metadata": {},
     "output_type": "display_data"
    }
   ],
   "source": [
    "from tut import *\n",
    "my_unique_nickname=\"john-smith\"\n",
    "# wave is a connection to the WAVE daemon, that you will use for authorization actions\n",
    "# homeserver is the control interface to your home server, allowing you to request permissions etc.\n",
    "# mqtt is a connection to the rise camp MQTT server that routes all commands and sensor information \n",
    "wave, homeserver, mqtt = Initialize(my_unique_nickname)"
   ]
  },
  {
   "cell_type": "markdown",
   "metadata": {},
   "source": [
    "## Creating your entity\n",
    "\n",
    "An *entity* represents a person or device. Your home server has an entity which is the root of permissions in the house, but every occupant of the house also needs their own entity so they can be granted permissions to interact with the house. Go ahead and create your entity by running the command below. \n",
    "\n",
    "Note that usually the command would be `entity = wave.CreateEntity(wv.CreateEntityParams())` but to make sure you don't lose your entity if you restart the notebook, we have made a wrapper that saves it to disk"
   ]
  },
  {
   "cell_type": "code",
   "execution_count": 2,
   "metadata": {},
   "outputs": [],
   "source": [
    "entity, _ = createOrLoadEntity(wave, \"myEntity\")\n",
    "\n",
    "# a perspective is the form of an entity you use in calls to WAVE\n",
    "perspective = wv.Perspective(entitySecret=wv.EntitySecret(DER=entity.SecretDER))"
   ]
  },
  {
   "cell_type": "markdown",
   "metadata": {},
   "source": [
    "## Proofs of permission\n",
    "\n",
    "Let's try control the house with this brand new entity. To do so, we need to form a *proof of permissions*:\n"
   ]
  },
  {
   "cell_type": "code",
   "execution_count": 3,
   "metadata": {},
   "outputs": [
    {
     "name": "stdout",
     "output_type": "stream",
     "text": [
      "Proof building succeeeded\n"
     ]
    }
   ],
   "source": [
    "proof = wave.BuildRTreeProof(wv.BuildRTreeProofParams(\n",
    "    # our secret entity perspective\n",
    "    perspective=perspective,\n",
    "    # the domain of authority we are accessing\n",
    "    namespace=homeserver.namespace(),\n",
    "    # what we want to prove\n",
    "    statements=[\n",
    "        wv.RTreePolicyStatement(\n",
    "            permissionSet=smarthome_pset,\n",
    "            permissions=[\"write\"],\n",
    "            resource=\"smarthome/light/control\",\n",
    "        )\n",
    "    ]\n",
    "))\n",
    "\n",
    "# lets check if that worked:\n",
    "if proof.error.code != 0:\n",
    "    print (\"Proof building failed:\", proof.error.message)\n",
    "else:\n",
    "    print (\"Proof building succeeeded\")"
   ]
  },
  {
   "cell_type": "markdown",
   "metadata": {},
   "source": [
    "If this is the first time you've run the notebook, the above will fail. This is because this newly created entity has not been granted any permissions! Why should it be able to control the house? In real life, you would now communicate with a person/service that has the permissions you want and give them your entity hash. With this, they can grant you permissions. We will emulate that with a simple function call:"
   ]
  },
  {
   "cell_type": "code",
   "execution_count": 4,
   "metadata": {},
   "outputs": [],
   "source": [
    "homeserver.grant_permissions_to(entity.hash)"
   ]
  },
  {
   "cell_type": "markdown",
   "metadata": {},
   "source": [
    "That grants you permissions to everything within the house, later we will do a permission grant from scratch, so you can see how it is done. For now, lets try building a proof again:"
   ]
  },
  {
   "cell_type": "code",
   "execution_count": 5,
   "metadata": {},
   "outputs": [
    {
     "name": "stdout",
     "output_type": "stream",
     "text": [
      "Proof building succeeeded\n"
     ]
    }
   ],
   "source": [
    "proof = wave.BuildRTreeProof(wv.BuildRTreeProofParams(\n",
    "    # our secret entity perspective\n",
    "    perspective=perspective,\n",
    "    # the domain of authority we are accessing\n",
    "    namespace=homeserver.namespace(),\n",
    "    # what we want to prove\n",
    "    statements=[\n",
    "        wv.RTreePolicyStatement(\n",
    "            permissionSet=smarthome_pset,\n",
    "            permissions=[\"write\"],\n",
    "            resource=\"smarthome/light/control\",\n",
    "        )\n",
    "    ]\n",
    "))\n",
    "\n",
    "if proof.error.code != 0:\n",
    "    print (\"Proof building failed:\", proof.error.message)\n",
    "else:\n",
    "    print (\"Proof building succeeeded\")"
   ]
  },
  {
   "cell_type": "markdown",
   "metadata": {},
   "source": [
    "This should succeed. We can now attach this proof to a command we send to the light, and it will obey the command because it can verify we are authorized. For this demo, the smart home devices rendered at the top of the notebook are listening for commands on an MQTT topic unique to your nickname."
   ]
  },
  {
   "cell_type": "code",
   "execution_count": 8,
   "metadata": {},
   "outputs": [
    {
     "data": {
      "application/vnd.jupyter.widget-view+json": {
       "model_id": "9dd97229ad6c4dd0a26dc6dcdf64a6fc",
       "version_major": 2,
       "version_minor": 0
      },
      "text/plain": [
       "VBox(children=(HBox(children=(VBox(children=(Light(children=(Image(value=b'\\x89PNG\\r\\n\\x1a\\n\\x00\\x00\\x00\\rIHDR…"
      ]
     },
     "metadata": {},
     "output_type": "display_data"
    }
   ],
   "source": [
    "homeserver.render()"
   ]
  },
  {
   "cell_type": "code",
   "execution_count": 9,
   "metadata": {},
   "outputs": [
    {
     "name": "stdout",
     "output_type": "stream",
     "text": [
      "john-smith/smarthome/light/control\n",
      "got light command\n",
      "\n"
     ]
    }
   ],
   "source": [
    "_ = mqtt.publish(my_unique_nickname+\"/smarthome/light/control\",\n",
    "#                      you can also use {\"state\":\"off\"}\n",
    "                  composeMessage(proof, {\"state\":\"on\"}))"
   ]
  },
  {
   "cell_type": "markdown",
   "metadata": {},
   "source": [
    "If you scroll to the top of the notebook, you should see that your light has turned on. Let's walk through how you would decrypt and validate a message that you receive. Let's subscribe to the thermostat report topic:"
   ]
  },
  {
   "cell_type": "code",
   "execution_count": 17,
   "metadata": {},
   "outputs": [
    {
     "name": "stdout",
     "output_type": "stream",
     "text": [
      "subscribing to john-smith/smarthome/light/report\n"
     ]
    }
   ],
   "source": [
    "def thermostat_cb(msg):\n",
    "    # first decrypt the message\n",
    "    resp = wave.DecryptMessage(wv.DecryptMessageParams(\n",
    "        perspective= perspective,\n",
    "        ciphertext= msg.payload,\n",
    "        resyncFirst= True))\n",
    "    if resp.error.code != 0:\n",
    "        print (\"dropping thermostat message:\", resp.error.message)\n",
    "        return\n",
    "    # then break it up into proof + body\n",
    "    proof, body = decomposeMessage(resp.content)\n",
    "    \n",
    "    # now validate the proof\n",
    "    resp = wave.VerifyProof(wv.VerifyProofParams(\n",
    "        proofDER=proof,\n",
    "        requiredRTreePolicy=wv.RTreePolicy(\n",
    "            namespace=homeserver.namespace(),\n",
    "            statements=[wv.RTreePolicyStatement(\n",
    "                permissionSet=smarthome_pset,\n",
    "                permissions=[\"write\"],\n",
    "                resource=\"smarthome/light/report\",\n",
    "            )]\n",
    "        )\n",
    "    ))\n",
    "    if resp.error.code != 0:\n",
    "        print (\"dropping message: \", resp.error.message)\n",
    "        \n",
    "    # the proof is valid!\n",
    "    print (\"got:\", body)\n",
    "    # now split it into proof and payload:\n",
    "# todo change back to thermostat\n",
    "mqtt.subscribe(my_unique_nickname+\"/smarthome/light/report\", thermostat_cb)"
   ]
  },
  {
   "cell_type": "code",
   "execution_count": 18,
   "metadata": {},
   "outputs": [
    {
     "name": "stdout",
     "output_type": "stream",
     "text": [
      "ciphertext: \"(\\202\\004\\021\\006\\n+\\006\\001\\004\\001\\203\\217U\\002\\005\\240\\202\\004\\0010\\202\\003\\375\\004\\033\\330Y=\\t\\177\\\"\\367\\207x2\\014\\235tD\\346Z\\312ap\\305\\246l\\274e\\222>G0\\202\\003\\332(\\202\\003\\326\\006\\n+\\006\\001\\004\\001\\203\\217U\\020\\002\\240\\202\\003\\3060\\202\\003\\302\\004\\202\\002\\3410!\\320\\007\\360\\361\\303\\336\\315C\\027\\346\\204>\\370E\\245p\\343Fj\\177C\\220f2\\245A\\327\\253\\241\\316\\235Gh.\\347\\265\\006,\\375.5\\357\\tA\\345\\032\\200\\216lyl\\255\\223(@\\021%\\023\\334\\256\\333\\246}l&\\211\\177\\266\\247t\\273-\\214/p\\213_6\\3370\\367t\\247\\353\\263\\014\\372\\247\\306\\021(\\216\\357R\\246\\202J\\234|\\236K\\002\\3423\\226W\\241\\273\\200\\334\\271j\\201\\252o\\017\\330SZ\\361B\\374r\\013kbG\\306o\\313\\335\\213\\010\\033\\305\\034U9w -UH\\255\\264\\330\\356\\033\\346=U\\002g !\\2323(]\\223\\226\\374\\025\\344H\\325\\251\\333\\373qX\\241*/MbQ\\256\\233\\310\\212\\360e\\357\\330\\013\\350\\242\\024\\320\\020\\033\\332\\327\\324\\363p\\204|\\t\\363\\235\\340\\204\\247W\\361|\\226hW\\2654\\004\\004\\3732\\307q\\035\\266\\267CIL~\\372HRX\\217\\020\\325sX\\212\\336\\227f\\202\\341.\\346\\020\\221\\365$g2\\212W\\351\\370\\2660\\222\\206\\227s\\334)\\024\\000^\\331\\306\\215\\356\\017\\220<Z\\305\\\\+9\\316_\\221\\333QO\\020\\253=\\262\\351\\341\\207\\'\\265CKi\\331e=\\361\\355\\354\\\\\\2173\\222\\236\\230\\242C\\335\\253\\214\\271KB\\203\\312\\000\\274\\256iMr&\\357\\232$\\\"{t\\256\\360\\014\\204\\323\\335\\324\\373\\005=vm.>?\\334R\\357\\226z.\\2042\\222\\014\\357\\372\\317\\320-f\\005\\003\\335\\335f\\311\\222\\351u\\213\\362\\207\\255)\\361\\353\\353\\036\\217\\rb\\035\\225\\253{\\r\\261t \\t${?\\315\\204\\374\\273F\\332\\363M\\033\\t\\364\\323c,\\023F3\\260\\022\\246#\\005\\307\\335\\376\\014E\\355\\264\\377\\273\\325\\254I\\035[\\267\\312\\035\\243<\\250^\\211\\024\\212\\337J\\315\\325<\\262qC>\\3509\\262\\002\\037\\355Z\\363\\341d\\022X\\266\\016\\3609\\307\\254\\326IA\\\"v\\373\\005%\\313\\257\\r\\242O\\266\\323\\352\\201\\r\\374\\320\\314O\\375U\\033\\2138\\234\\235\\344\\205\\032\\256\\237\\273\\306\\006\\247\\3419\\276\\346\\276\\252+[\\324I^\\211+\\177\\257r\\247\\265&\\250X\\267\\354\\037}B\\372\\261\\027\\325\\213\\256P\\213R2g\\322\\330\\274\\342\\013\\3656{\\265\\020y\\327\\342\\342\\341@ \\002b<\\207\\3550\\256>\\033\\276sZj\\305\\352M\\254~\\006\\033\\365V\\341\\236H\\331k\\327\\302Y\\337\\343\\311BG(<\\275\\226S\\003\\234\\363\\231\\201\\335\\250\\312\\244\\371\\225J\\362\\204}%\\301\\362\\200\\200\\274W7M\\337\\363\\020Wc\\204;\\376\\337\\233\\200\\322\\223\\274\\257F\\037\\350\\313\\254,/H\\376\\314J\\257\\231|\\237p\\021\\002\\370\\333\\032\\264~\\201\\177cF\\204\\210=\\340\\252\\025\\325\\005\\304\\317\\302\\243\\033\\263lfJR\\237%\\306\\231\\343&>c\\022\\257w\\n\\2671~\\014\\036\\327\\241\\362 \\223\\352\\347T8\\352\\261\\255\\224\\22265\\321n\\332\\245\\204<\\2650\\315\\346\\263\\247\\216\\237c\\251\\343\\204\\034\\331\\004l\\207\\302\\037 \\213%e\\032\\326W\\245}Yc\\206\\351|k\\224\\200\\325\\032)\\t\\374y#\\\\\\240\\237\\256\\222\\010\\227(\\325\\200\\363\\214\\205\\\"\\361\\226\\303\\031\\213\\031\\365\\235\\3327\\325zo\\0302\\355\\022\\034\\237\\260\\356\\350\\261\\\"h\\265\\006\\014+\\035f\\220\\022\\245\\010\\372\\234\\004>\\362fxj|\\307L=?\\014M~@|B\\367\\362\\376\\031\\031\\302w\\331|?I\\372e(0\\006\\n+\\006\\001\\004\\001\\203\\217U\\t\\002\\240\\\"\\004 \\177\\\\\\245\\275\\220\\243tjH\\270\\177\\217\\214B\\267\\315#\\357\\223\\317u\\251\\372\\270\\355\\200\\274\\036\\311\\210\\2046(;\\006\\n+\\006\\001\\004\\001\\203\\217U\\010\\001\\240-0+\\014&https://standalone.storage.bwave.io/v1\\002\\001\\0010\\000\"\n",
      "\n",
      "content: \"hello world\"\n",
      "\n",
      "content: \"hello world\"\n",
      "\n"
     ]
    }
   ],
   "source": [
    "\n",
    "\n",
    "# test encryption/decryption\n",
    "msg = \"hello world\"\n",
    "uri = \"smarthome/light/result\"\n",
    "encryptResult = wave.EncryptMessage(\n",
    "    wv.EncryptMessageParams(\n",
    "        namespace=homeserver.namespace(), \n",
    "        resource=uri, \n",
    "        content=bytes(msg,\"utf8\")))\n",
    "print(encryptResult)\n",
    "\n",
    "# try decrypt it\n",
    "decryptResult1 = wave.DecryptMessage(\n",
    "    wv.DecryptMessageParams(\n",
    "        perspective= perspective,\n",
    "        ciphertext= encryptResult.ciphertext,\n",
    "        resyncFirst= True))\n",
    "\n",
    "print (decryptResult1)\n",
    "\n",
    "# grant permissions from the home server to us\n",
    "homeserver.grant_permissions_to(entity.hash)\n",
    "\n",
    "# try decrypt again\n",
    "decryptResult2 = wave.DecryptMessage(\n",
    "    wv.DecryptMessageParams(\n",
    "        perspective= perspective,\n",
    "        ciphertext= encryptResult.ciphertext,\n",
    "        resyncFirst= True))\n",
    "\n",
    "print (decryptResult2)"
   ]
  },
  {
   "cell_type": "code",
   "execution_count": 17,
   "metadata": {},
   "outputs": [
    {
     "ename": "NameError",
     "evalue": "name 'agent' is not defined",
     "output_type": "error",
     "traceback": [
      "\u001b[0;31m---------------------------------------------------------------------------\u001b[0m",
      "\u001b[0;31mNameError\u001b[0m                                 Traceback (most recent call last)",
      "\u001b[0;32m<ipython-input-17-6ed2119a4aac>\u001b[0m in \u001b[0;36m<module>\u001b[0;34m()\u001b[0m\n\u001b[1;32m      1\u001b[0m \u001b[0;34m\u001b[0m\u001b[0m\n\u001b[0;32m----> 2\u001b[0;31m \u001b[0mentity\u001b[0m \u001b[0;34m=\u001b[0m \u001b[0magent\u001b[0m\u001b[0;34m.\u001b[0m\u001b[0mCreateEntity\u001b[0m\u001b[0;34m(\u001b[0m\u001b[0mwv\u001b[0m\u001b[0;34m.\u001b[0m\u001b[0mCreateEntityParams\u001b[0m\u001b[0;34m(\u001b[0m\u001b[0;34m)\u001b[0m\u001b[0;34m)\u001b[0m\u001b[0;34m\u001b[0m\u001b[0m\n\u001b[0m\u001b[1;32m      3\u001b[0m \u001b[0;32mif\u001b[0m \u001b[0mentity\u001b[0m\u001b[0;34m.\u001b[0m\u001b[0merror\u001b[0m\u001b[0;34m.\u001b[0m\u001b[0mcode\u001b[0m \u001b[0;34m!=\u001b[0m \u001b[0;36m0\u001b[0m\u001b[0;34m:\u001b[0m\u001b[0;34m\u001b[0m\u001b[0m\n\u001b[1;32m      4\u001b[0m     \u001b[0;32mraise\u001b[0m \u001b[0mException\u001b[0m\u001b[0;34m(\u001b[0m\u001b[0mentity\u001b[0m\u001b[0;34m.\u001b[0m\u001b[0merror\u001b[0m\u001b[0;34m)\u001b[0m\u001b[0;34m\u001b[0m\u001b[0m\n\u001b[1;32m      5\u001b[0m \u001b[0magent\u001b[0m\u001b[0;34m.\u001b[0m\u001b[0mPublishEntity\u001b[0m\u001b[0;34m(\u001b[0m\u001b[0mwv\u001b[0m\u001b[0;34m.\u001b[0m\u001b[0mPublishEntityParams\u001b[0m\u001b[0;34m(\u001b[0m\u001b[0mDER\u001b[0m\u001b[0;34m=\u001b[0m\u001b[0mentity\u001b[0m\u001b[0;34m.\u001b[0m\u001b[0mPublicDER\u001b[0m\u001b[0;34m)\u001b[0m\u001b[0;34m)\u001b[0m\u001b[0;34m\u001b[0m\u001b[0m\n",
      "\u001b[0;31mNameError\u001b[0m: name 'agent' is not defined"
     ]
    }
   ],
   "source": [
    "\n",
    "entity = agent.CreateEntity(wv.CreateEntityParams())\n",
    "if entity.error.code != 0:\n",
    "    raise Exception(entity.error)\n",
    "agent.PublishEntity(wv.PublishEntityParams(DER=entity.PublicDER))\n",
    "perspective=wv.Perspective(\n",
    "    entitySecret=wv.EntitySecret(DER=entity.SecretDER)\n",
    ")\n",
    "proof = agent.BuildRTreeProof(wv.BuildRTreeProofParams(\n",
    "    perspective=perspective,\n",
    "    namespace=hs.namespace(),\n",
    "    resyncFirst=True,\n",
    "    statements=[\n",
    "        wv.RTreePolicyStatement(\n",
    "            permissionSet=smarthome_pset,\n",
    "            permissions=[\"actuate\"],\n",
    "            resource=\"smarthome/light/control\",\n",
    "        )\n",
    "    ]\n",
    "))\n",
    "# should have no permissions\n",
    "print (\"first attempt without permissions:\")\n",
    "print (proof.error)\n",
    "\n",
    "hs.grant_permissions_to(entity.hash)\n",
    "proof2 = agent.BuildRTreeProof(wv.BuildRTreeProofParams(\n",
    "    perspective=perspective,\n",
    "    namespace=hs.namespace(),\n",
    "    resyncFirst=True,\n",
    "    statements=[\n",
    "        wv.RTreePolicyStatement(\n",
    "            permissionSet=smarthome_pset,\n",
    "            permissions=[\"write\"],\n",
    "            resource=\"smarthome/light/control\",\n",
    "        ),\n",
    "      wv.RTreePolicyStatement(\n",
    "            permissionSet=smarthome_pset,\n",
    "            permissions=[\"read\"],\n",
    "            resource=\"smarthome/light/report\",\n",
    "        )\n",
    "    ]\n",
    "))\n",
    "if proof2.error.code != 0:\n",
    "    raise Exception(proof2.error)"
   ]
  },
  {
   "cell_type": "code",
   "execution_count": null,
   "metadata": {},
   "outputs": [],
   "source": [
    "packed = pack_payload(proof2.proofDER, json.dumps({'state': 'on'}))\n",
    "client.publish(\"michael/smarthome/light/control\", packed)"
   ]
  },
  {
   "cell_type": "code",
   "execution_count": null,
   "metadata": {},
   "outputs": [],
   "source": [
    "packed = pack_payload(proof3.proofDER, json.dumps({'hsp': 68}))\n",
    "client.publish(\"michael/smarthome/thermostat/control\", packed)"
   ]
  },
  {
   "cell_type": "code",
   "execution_count": null,
   "metadata": {},
   "outputs": [],
   "source": [
    "homeserver.render()"
   ]
  },
  {
   "cell_type": "code",
   "execution_count": null,
   "metadata": {},
   "outputs": [],
   "source": []
  }
 ],
 "metadata": {
  "kernelspec": {
   "display_name": "Python 3",
   "language": "python",
   "name": "python3"
  },
  "language_info": {
   "codemirror_mode": {
    "name": "ipython",
    "version": 3
   },
   "file_extension": ".py",
   "mimetype": "text/x-python",
   "name": "python",
   "nbconvert_exporter": "python",
   "pygments_lexer": "ipython3",
   "version": "3.6.3"
  }
 },
 "nbformat": 4,
 "nbformat_minor": 2
}
