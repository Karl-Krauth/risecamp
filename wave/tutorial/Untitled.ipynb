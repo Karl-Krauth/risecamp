{
 "cells": [
  {
   "cell_type": "markdown",
   "metadata": {},
   "source": [
    "# WAVE tutorial: a smart home\n",
    "\n",
    "WAVE is platform for delegable authorization. We are going to test it out by looking at some use cases in a smart home context. You can also use WAVE for securing other things, like APIs, but this is a fun tutorial to cover the basics.\n",
    "\n",
    "## Getting started\n",
    "\n",
    "The lines below will \"boot\" your house. There is a home server that acts as the root of authority for your house and all its devices. Give your house a unique nickname, as later you will be accessing data from other people's houses. "
   ]
  },
  {
   "cell_type": "code",
   "execution_count": null,
   "metadata": {
    "scrolled": false
   },
   "outputs": [],
   "source": [
    "from tut import *\n",
    "my_unique_nickname=\"john-smith2\"\n",
    "# wave is a connection to the WAVE daemon, that you will use for authorization actions\n",
    "# homeserver is the control interface to your home server, allowing you to request permissions etc.\n",
    "# mqtt is a connection to the rise camp MQTT server that routes all commands and sensor information \n",
    "wave, homeserver, mqtt = Initialize(my_unique_nickname)"
   ]
  },
  {
   "cell_type": "markdown",
   "metadata": {},
   "source": [
    "## Creating your entity\n",
    "\n",
    "An *entity* represents a person or device. Your home server has an entity which is the root of permissions in the house, but every occupant of the house also needs their own entity so they can be granted permissions to interact with the house. Go ahead and create your entity by running the command below. \n",
    "\n",
    "Note that usually the command would be `entity = wave.CreateEntity(wv.CreateEntityParams())` but to make sure you don't lose your entity if you restart the notebook, we have made a wrapper that saves it to disk"
   ]
  },
  {
   "cell_type": "code",
   "execution_count": null,
   "metadata": {},
   "outputs": [],
   "source": [
    "entity, _ = createOrLoadEntity(wave, \"myEntity\")\n",
    "\n",
    "# a perspective is the form of an entity you use in calls to WAVE\n",
    "perspective = wv.Perspective(entitySecret=wv.EntitySecret(DER=entity.SecretDER))"
   ]
  },
  {
   "cell_type": "markdown",
   "metadata": {},
   "source": [
    "## Proofs of permission\n",
    "\n",
    "Let's try control the house with this brand new entity. To do so, we need to form a *proof of permissions*:\n"
   ]
  },
  {
   "cell_type": "code",
   "execution_count": null,
   "metadata": {},
   "outputs": [],
   "source": [
    "lightproof = wave.BuildRTreeProof(wv.BuildRTreeProofParams(\n",
    "    # our secret entity perspective\n",
    "    perspective=perspective,\n",
    "    # the domain of authority we are accessing\n",
    "    namespace=homeserver.namespace(),\n",
    "    # what we want to prove\n",
    "    statements=[\n",
    "        wv.RTreePolicyStatement(\n",
    "            permissionSet=smarthome_pset,\n",
    "            permissions=[\"write\"],\n",
    "            resource=\"smarthome/light/control\",\n",
    "        )\n",
    "    ]\n",
    "))\n",
    "\n",
    "# lets check if that worked:\n",
    "if lightproof.error.code != 0:\n",
    "    print (\"Proof building failed:\", lightproof.error.message)\n",
    "else:\n",
    "    print (\"Proof building succeeeded\")"
   ]
  },
  {
   "cell_type": "markdown",
   "metadata": {},
   "source": [
    "If this is the first time you've run the notebook, the above will fail. This is because this newly created entity has not been granted any permissions! Why should it be able to control the house? In real life, you would now communicate with a person/service that has the permissions you want and give them your entity hash. With this, they can grant you permissions. We will emulate that with a simple function call:"
   ]
  },
  {
   "cell_type": "code",
   "execution_count": null,
   "metadata": {},
   "outputs": [],
   "source": [
    "homeserver.grant_permissions_to(entity.hash)"
   ]
  },
  {
   "cell_type": "markdown",
   "metadata": {},
   "source": [
    "That grants you permissions to everything within the house, later we will do a permission grant from scratch, so you can see how it is done. For now, lets try building a proof again:"
   ]
  },
  {
   "cell_type": "code",
   "execution_count": null,
   "metadata": {},
   "outputs": [],
   "source": [
    "lightproof = wave.BuildRTreeProof(wv.BuildRTreeProofParams(\n",
    "    # our secret entity perspective\n",
    "    perspective=perspective,\n",
    "    # the domain of authority we are accessing\n",
    "    namespace=homeserver.namespace(),\n",
    "    # Tell WAVE to look for new permissions\n",
    "    resyncFirst=True,\n",
    "    # what we want to prove\n",
    "    statements=[\n",
    "        wv.RTreePolicyStatement(\n",
    "            permissionSet=smarthome_pset,\n",
    "            permissions=[\"write\"],\n",
    "            resource=\"smarthome/light/control\",\n",
    "        )\n",
    "    ]\n",
    "))\n",
    "\n",
    "if lightproof.error.code != 0:\n",
    "    print (\"Proof building failed:\", lightproof.error.message)\n",
    "else:\n",
    "    print (\"Proof building succeeeded\")"
   ]
  },
  {
   "cell_type": "markdown",
   "metadata": {},
   "source": [
    "This should succeed. We can now attach this proof to a command we send to the light, and it will obey the command because it can verify we are authorized. For this demo, the smart home devices rendered at the top of the notebook are listening for commands on an MQTT topic unique to your nickname."
   ]
  },
  {
   "cell_type": "code",
   "execution_count": null,
   "metadata": {},
   "outputs": [],
   "source": [
    "mqtt.publish(my_unique_nickname+\"/smarthome/light/control\",\n",
    "#                      you can also use {\"state\":\"off\"}\n",
    "                  composeMessage(lightproof, {\"state\":\"on\"}))"
   ]
  },
  {
   "cell_type": "markdown",
   "metadata": {},
   "source": [
    "If you scroll to the top of the notebook you should see that the light has turned on. To make it easier to see, you can add a copy of your smart home devices here:"
   ]
  },
  {
   "cell_type": "code",
   "execution_count": null,
   "metadata": {},
   "outputs": [],
   "source": [
    "homeserver.render()"
   ]
  },
  {
   "cell_type": "markdown",
   "metadata": {},
   "source": [
    "In addition to controlling lights, you can also form a proof for writing to the message box:"
   ]
  },
  {
   "cell_type": "code",
   "execution_count": null,
   "metadata": {},
   "outputs": [],
   "source": [
    "msgproof = wave.BuildRTreeProof(wv.BuildRTreeProofParams(\n",
    "    perspective=perspective,\n",
    "    namespace=homeserver.namespace(),\n",
    "    resyncFirst=True,\n",
    "    statements=[\n",
    "        wv.RTreePolicyStatement(\n",
    "            permissionSet=smarthome_pset,\n",
    "            permissions=[\"write\"],\n",
    "            resource=\"smarthome/notify\",\n",
    "        )\n",
    "    ]\n",
    "))\n",
    "\n",
    "if msgproof.error.code != 0:\n",
    "    print (\"Proof building failed:\", msgproof.error.message)\n",
    "else:\n",
    "    print (\"Proof building succeeeded\")\n"
   ]
  },
  {
   "cell_type": "markdown",
   "metadata": {},
   "source": [
    "You send messages to it the same way you do for the light:"
   ]
  },
  {
   "cell_type": "code",
   "execution_count": null,
   "metadata": {},
   "outputs": [],
   "source": [
    "mqtt.publish(my_unique_nickname+\"/smarthome/notify\",\n",
    "                  composeMessage(msgproof, \"hello world\"))"
   ]
  },
  {
   "cell_type": "markdown",
   "metadata": {},
   "source": [
    "Now that you have sent some authorization proofs attached to messages, let's walk through how you would decrypt and validate a message that you receive. Let's subscribe to the thermostat report topic and make the light mirror the occupancy report from the thermostat:"
   ]
  },
  {
   "cell_type": "code",
   "execution_count": null,
   "metadata": {},
   "outputs": [],
   "source": [
    "def thermostat_cb(msg):\n",
    "    # first decrypt the message\n",
    "    resp = wave.DecryptMessage(wv.DecryptMessageParams(\n",
    "        perspective= perspective,\n",
    "        ciphertext= msg.payload,\n",
    "        resyncFirst= True))\n",
    "    if resp.error.code != 0:\n",
    "        print (\"dropping thermostat message:\", resp.error.message)\n",
    "        return\n",
    "    # then break it up into proof + body\n",
    "    proof, body = decomposeMessage(resp.content)\n",
    "    \n",
    "    # now validate the proof\n",
    "    resp = wave.VerifyProof(wv.VerifyProofParams(\n",
    "        proofDER=proof,\n",
    "        requiredRTreePolicy=wv.RTreePolicy(\n",
    "            namespace=homeserver.namespace(),\n",
    "            statements=[wv.RTreePolicyStatement(\n",
    "                permissionSet=smarthome_pset,\n",
    "                permissions=[\"write\"],\n",
    "                resource=\"smarthome/thermostat/report\",\n",
    "            )]\n",
    "        )\n",
    "    ))\n",
    "    if resp.error.code != 0:\n",
    "        print (\"dropping message: \", resp.error.message)\n",
    "        return\n",
    "        \n",
    "    # the proof is valid!\n",
    "    house_occupied = body[\"occupied\"]\n",
    "    # fill in some code here to turn the light on if the house is occupied, and off otherwise\n",
    "    \n",
    "    \n",
    "mqtt.subscribe(my_unique_nickname+\"/smarthome/thermostat/report\", thermostat_cb)"
   ]
  },
  {
   "cell_type": "markdown",
   "metadata": {},
   "source": [
    "You have now created a controller that consumes secure feeds and produces a control feed!\n",
    "\n",
    "To disable the controller above, put a `return` at the top of the callback function and re-run the cell.\n",
    "\n",
    "## Interacting across namespaces\n",
    "\n",
    "You are a good neighbor and you like to help out. Your neighbor is away on vacation, so you want to tie their house lights to yours so that their house seems occupied.\n",
    "\n",
    "First off, you need to find a partner (like the person next to you!) and you need to communicate your entity hash to them. The easiest way is to use base64 encode the hash and use mqtt:"
   ]
  },
  {
   "cell_type": "code",
   "execution_count": null,
   "metadata": {},
   "outputs": [],
   "source": [
    "import base64\n",
    "# some utility functions\n",
    "def hashToBase64(hash):\n",
    "    return str(base64.b64encode(hash), \"utf8\")\n",
    "def hashFromBase64(b64):\n",
    "    return base64.b64decode(b64)\n",
    "\n",
    "# print out messages from people looking for partners\n",
    "def looking_for_partner(msg):\n",
    "    # you can comment this out and re-run the cell to turn off these messages if they are annoying\n",
    "    print (\"looking for partner > \"+str(msg.payload,\"utf8\"))\n",
    "    pass\n",
    "mqtt.subscribe(\"looking-for-partner\", looking_for_partner)\n",
    "mqtt.publish(\"looking-for-partner\", \n",
    "             \"I am \"+my_unique_nickname+\n",
    "             \" my entity is \"+hashToBase64(entity.hash)+ \n",
    "             \" and my home namespace is \"+hashToBase64(homeserver.namespace()))"
   ]
  },
  {
   "cell_type": "markdown",
   "metadata": {},
   "source": [
    "Get your neighbor to run the above as well, and copy their hash and nickname\n",
    "\n"
   ]
  },
  {
   "cell_type": "code",
   "execution_count": null,
   "metadata": {},
   "outputs": [],
   "source": [
    "partner_hash = hashFromBase64( paste here )\n",
    "partner_home_namespace = hashFromBase64 ( paste here)\n",
    "partner_nickname = \"paste here\""
   ]
  },
  {
   "cell_type": "markdown",
   "metadata": {},
   "source": [
    "Decide between you and your partner who is going on vacation (their lights will be controlled) and who is doing the controlling.\n",
    "\n",
    "## Having your lights controlled:\n",
    "\n",
    "You need to grant the controlling entity (stored in `partner_hash`) permission to control your lights:"
   ]
  },
  {
   "cell_type": "code",
   "execution_count": null,
   "metadata": {},
   "outputs": [],
   "source": [
    "\n",
    "wave.CreateAttestation(wv.CreateAttestationParams(\n",
    "    perspective=perspective,\n",
    "    subjectHash=partner_hash,\n",
    "    publish=True,\n",
    "    policy=wv.Policy(rTreePolicy=wv.RTreePolicy(\n",
    "        namespace=homeserver.namespace(),\n",
    "        indirections=5,\n",
    "        statements=[\n",
    "            wv.RTreePolicyStatement(\n",
    "                permissionSet=smarthome_pset,\n",
    "                permissions=[\"write\"],\n",
    "                resource=\"smarthome/light/control\",\n",
    "            )]\n",
    "    ))))\n"
   ]
  },
  {
   "cell_type": "markdown",
   "metadata": {},
   "source": [
    "Note that what you have just done is *delegation*: you received some permissions from the home server entity and you are passing on a subset of those permissions on to your partner.\n",
    "\n",
    "## Controlling your partner's lights:\n",
    "\n",
    "You need to build a proof that you can control your partner's light:"
   ]
  },
  {
   "cell_type": "code",
   "execution_count": null,
   "metadata": {},
   "outputs": [],
   "source": [
    "partnerlightproof = wave.BuildRTreeProof(wv.BuildRTreeProofParams(\n",
    "    perspective=perspective,\n",
    "    # the namespace will be our partner's home, not ours\n",
    "    namespace=partner_home_namespace,\n",
    "    # Tell WAVE to look for new permissions\n",
    "    resyncFirst=True,\n",
    "    # what we want to prove\n",
    "    statements=[\n",
    "        wv.RTreePolicyStatement(\n",
    "            permissionSet=smarthome_pset,\n",
    "            permissions=[\"write\"],\n",
    "            resource=\"smarthome/light/control\",\n",
    "        )\n",
    "    ]\n",
    "))\n",
    "\n",
    "if partnerlightproof.error.code != 0:\n",
    "    print (\"Proof building failed:\", partnerlightproof.error.message)\n",
    "else:\n",
    "    print (\"Proof building succeeeded\")"
   ]
  },
  {
   "cell_type": "markdown",
   "metadata": {},
   "source": [
    "Now you can use this proof to publish a message:\n"
   ]
  },
  {
   "cell_type": "code",
   "execution_count": null,
   "metadata": {},
   "outputs": [],
   "source": [
    "mqtt.publish(partner_nickname+\"/smarthome/light/control\", composeMessage(partnerlightproof, {\"state\":\"on\"}))"
   ]
  },
  {
   "cell_type": "markdown",
   "metadata": {},
   "source": [
    "By referring to the thermostat controller above, create a new controller that reads your own light state  `nickname/smarthome/light/report` and controls your partner's light `partnernickname/smarthome/light/control`."
   ]
  },
  {
   "cell_type": "code",
   "execution_count": null,
   "metadata": {},
   "outputs": [],
   "source": [
    "# create callback function\n",
    "#    decrypt our light state\n",
    "#    verify proof\n",
    "#    publish control message using partnerlightproof\n",
    "\n",
    "# subscribe to our light state"
   ]
  },
  {
   "cell_type": "markdown",
   "metadata": {},
   "source": [
    "## Bonus section: decrypting your partner's streams"
   ]
  },
  {
   "cell_type": "markdown",
   "metadata": {},
   "source": [
    "Your vacation-happy neighbor is having a problem with package theft. He has asked you to create a controller that tells you when he gets a package and he is not home. Everyone in the neighborhood has a smart home with a motion sensor by the front door. They also have thermostats that have occupancy sensors. If there is motion in front of the neighbor's house, and nobody is home, then maybe you should go check for a package.\n",
    "\n",
    "Discuss with your partner who is going on vacation, and who is the kind neighbor picking up packages:\n",
    "\n",
    "## Going on vacation\n",
    "\n",
    "You will need to grant your partner the ability to decrypt your thermostat data (which tells them if the house is occupied by the house sitter or not) and the ability to decrypt the motion sensor data (which tells them a package was delivered."
   ]
  },
  {
   "cell_type": "code",
   "execution_count": null,
   "metadata": {},
   "outputs": [],
   "source": [
    "\n",
    "# grant your partner the ability to decrypt your thermostat data\n",
    "wave.CreateAttestation(wv.CreateAttestationParams(\n",
    "    perspective=perspective,\n",
    "    subjectHash=partner_hash,\n",
    "    publish=True,\n",
    "    policy=wv.Policy(rTreePolicy=wv.RTreePolicy(\n",
    "        namespace=self.ent.hash,\n",
    "        indirections=5,\n",
    "        statements=[\n",
    "            wv.RTreePolicyStatement(\n",
    "                permissionSet=wv.WaveBuiltinPSET,\n",
    "                permissions=[wv.WaveBuiltinE2EE],\n",
    "                resource=\"smarthome/thermostat/report\",\n",
    "            )]\n",
    "    ))))\n",
    "\n",
    "# and grant them the ability to decrypt your motion sensor\n",
    "wave.CreateAttestation(wv.CreateAttestationParams(\n",
    "    perspective=perspective,\n",
    "    subjectHash=partner_hash,\n",
    "    publish=True,\n",
    "    policy=wv.Policy(rTreePolicy=wv.RTreePolicy(\n",
    "        namespace=self.ent.hash,\n",
    "        indirections=5,\n",
    "        statements=[\n",
    "            wv.RTreePolicyStatement(\n",
    "                permissionSet=wv.WaveBuiltinPSET,\n",
    "                permissions=[wv.WaveBuiltinE2EE],\n",
    "                resource=\"smarthome/motion/report\",\n",
    "            )]\n",
    "    ))))\n"
   ]
  },
  {
   "cell_type": "markdown",
   "metadata": {},
   "source": [
    "## The kind neighbor\n",
    "\n",
    "To check you have permissions, lets try building a proof that you can decrypt the motion sensor data:\n"
   ]
  },
  {
   "cell_type": "code",
   "execution_count": null,
   "metadata": {},
   "outputs": [],
   "source": [
    "decryptmotionproof = wave.BuildRTreeProof(wv.BuildRTreeProofParams(\n",
    "    perspective=perspective,\n",
    "    # the namespace will be our partner's home, not ours\n",
    "    namespace=partner_home_namespace,\n",
    "    # Tell WAVE to look for new permissions\n",
    "    resyncFirst=True,\n",
    "    # what we want to prove\n",
    "    statements=[\n",
    "        wv.RTreePolicyStatement(\n",
    "            permissionSet=wv.WaveBuiltinPSET,\n",
    "            permissions=[wv.WaveBuiltinE2EE],\n",
    "            resource=\"smarthome/motion/report\",\n",
    "        )\n",
    "    ]\n",
    "))\n",
    "\n",
    "if decryptmotionproof.error.code != 0:\n",
    "    print (\"Proof building failed:\", decryptmotionproof.error.message)\n",
    "else:\n",
    "    print (\"Proof building succeeeded\")"
   ]
  },
  {
   "cell_type": "markdown",
   "metadata": {},
   "source": [
    "Now, by consulting the subscription callbacks you have written in the past, write a controller that listens to and decrypts your neighbors motion and occupancy data, and publishes a notification message to your own homeserver if you need to check for a package."
   ]
  },
  {
   "cell_type": "code",
   "execution_count": null,
   "metadata": {},
   "outputs": [],
   "source": []
  }
 ],
 "metadata": {
  "kernelspec": {
   "display_name": "Python 3",
   "language": "python",
   "name": "python3"
  },
  "language_info": {
   "codemirror_mode": {
    "name": "ipython",
    "version": 3
   },
   "file_extension": ".py",
   "mimetype": "text/x-python",
   "name": "python",
   "nbconvert_exporter": "python",
   "pygments_lexer": "ipython3",
   "version": "3.6.3"
  }
 },
 "nbformat": 4,
 "nbformat_minor": 2
}
