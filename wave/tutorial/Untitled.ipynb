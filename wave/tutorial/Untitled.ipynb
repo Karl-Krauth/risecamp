{
 "cells": [
  {
   "cell_type": "code",
   "execution_count": 1,
   "metadata": {
    "scrolled": false
   },
   "outputs": [
    {
     "name": "stdout",
     "output_type": "stream",
     "text": [
      "publishing entity\n"
     ]
    },
    {
     "data": {
      "application/vnd.jupyter.widget-view+json": {
       "model_id": "641859aa00b9463ba5318abc5974e13b",
       "version_major": 2,
       "version_minor": 0
      },
      "text/plain": [
       "Light(children=(Image(value=b'\\x89PNG\\r\\n\\x1a\\n\\x00\\x00\\x00\\rIHDR\\x00\\x00\\x00K\\x00\\x00\\x00x\\x08\\x06\\x00\\x00\\x0…"
      ]
     },
     "metadata": {},
     "output_type": "display_data"
    },
    {
     "data": {
      "application/vnd.jupyter.widget-view+json": {
       "model_id": "7f35c840672a4da59fac130827fa0f23",
       "version_major": 2,
       "version_minor": 0
      },
      "text/plain": [
       "Switch(value=False, button_style='success', description='Turn Light On')"
      ]
     },
     "metadata": {},
     "output_type": "display_data"
    },
    {
     "data": {
      "application/vnd.jupyter.widget-view+json": {
       "model_id": "24359d872fe046fe8897fa8a83af241a",
       "version_major": 2,
       "version_minor": 0
      },
      "text/plain": [
       "Thermostat(children=(Image(value=b'\\x89PNG\\r\\n\\x1a\\n\\x00\\x00\\x00\\rIHDR\\x00\\x00\\x05\\xdc\\x00\\x00\\x04\\x04\\x08\\x02…"
      ]
     },
     "metadata": {},
     "output_type": "display_data"
    },
    {
     "name": "stdout",
     "output_type": "stream",
     "text": [
      "publishing entity\n",
      "publishing entity\n"
     ]
    }
   ],
   "source": [
    "from tut import *\n",
    "wave, homeserver, mqtt = Initialize(\"foobot\")"
   ]
  },
  {
   "cell_type": "code",
   "execution_count": 2,
   "metadata": {},
   "outputs": [
    {
     "name": "stdout",
     "output_type": "stream",
     "text": [
      "publishing entity\n"
     ]
    }
   ],
   "source": [
    "# This function is just for the demo so that if you restart the notebook kernel, you\n",
    "# get the same entity back. Normally you would use:\n",
    "# entity = wave.CreateEntity(wv.CreateEntityParams())\n",
    "entity, _ = createOrLoadEntity(wave, \"myEntity\")\n",
    "# a perspective is the form of an entity you use in calls to WAVE\n",
    "perspective = wv.Perspective(entitySecret=wv.EntitySecret(DER=entity.SecretDER))"
   ]
  },
  {
   "cell_type": "code",
   "execution_count": 3,
   "metadata": {},
   "outputs": [
    {
     "name": "stdout",
     "output_type": "stream",
     "text": [
      "ciphertext: \"(\\202\\004\\021\\006\\n+\\006\\001\\004\\001\\203\\217U\\002\\005\\240\\202\\004\\0010\\202\\003\\375\\004\\033\\274\\013B\\352&Qhe\\252\\251p>A?\\316B\\374H\\355`X\\305\\017\\316\\216\\313,0\\202\\003\\332(\\202\\003\\326\\006\\n+\\006\\001\\004\\001\\203\\217U\\020\\002\\240\\202\\003\\3060\\202\\003\\302\\004\\202\\002\\341\\374\\325:U\\2651\\\\\\024M]\\270\\236\\033-\\337*i\\035t\\226\\260\\203\\302\\276\\320&\\003\\272I>\\256\\027:\\257\\030x}\\323:\\362\\266\\026\\345\\244mF7(\\010\\023\\267\\363a\\231DK@GS\\351\\177\\227\\037\\222\\352\\030\\340\\034.qRm\\304O\\026[:\\234\\273\\302\\247\\243\\006m\\203e\\304\\244sd\\315\\2345o\\n\\010\\3202m}+\\311,.\\032\\300\\r\\263I\\314\\303wUwx3`\\344 \\006\\211\\267%[\\007\\263\\036\\016\\330>`\\327e\\325\\223\\034q\\017\\321\\243\\016Lm \\264q\\366\\317\\323K\\246)v\\264)\\321\\307\\355|MCQ\\334{rmR6\\214c\\361\\347\\273\\357\\347\\336o\\324\\022\\374\\367\\3420w\\260\\036\\n\\003\\262b@Gx?c\\316\\204\\346\\224\\2037\\315\\036\\013\\326Y\\345\\324\\305#\\312\\351\\201\\237-\\347\\364\\356\\262\\261\\261VA\\2007\\\"\\t /\\220\\024D\\316\\207\\327\\252qy\\312g*~\\216S\\260\\340\\261\\033!\\003\\017\\372\\233 \\265\\351\\2074\\256\\307\\325?;\\351PU\\236+a|n\\233~U\\270\\322=\\262_\\3647\\327\\034\\320\\253\\255\\374\\300\\244d\\377\\365\\302\\364\\202\\253,7\\361~&O\\024\\224\\263~\\217\\367\\224\\341\\007\\006\\203\\366\\247\\234\\262\\244\\337\\035\\205A\\242\\004\\332N\\213\\274\\003\\002$\\317N\\220\\303@\\304\\031A\\027\\\\7\\237\\027y\\264\\247\\005\\232\\335\\346\\314\\210\\221\\301\\006\\231L<\\021\\0225/\\032\\266\\210\\013U\\177[U;]5d(>f\\357zI;\\226\\343[\\275\\324\\255\\231\\356\\202\\310\\006&\\277\\327\\r_\\257\\301\\373-\\206\\n\\336\\270@\\006\\\"\\037\\233\\\\SC\\326,\\2118#u$\\332x\\253\\274\\201\\351s\\200`Q:b1\\274\\021\\372\\216g\\247\\247\\017\\2704Z \\030\\001\\361\\020\\237\\266p\\016\\244X\\022=\\342\\274\\0242\\307\\3521\\366S\\274\\225\\031~\\257w\\275\\346\\310Y\\306\\362u\\374\\230\\205\\365!\\375\\307\\216#\\357ga\\312\\274\\244\\016Y\\227\\344\\025v\\265L\\333\\265pY\\306\\311\\362\\262\\326@d\\301\\342\\367\\262\\244T\\313\\030\\306\\276$\\263[\\352\\310\\220\\203\\241a\\347\\355\\205\\026\\304\\325@\\032\\243x7\\263\\240qQ\\211\\037V\\177\\3246\\010\\204\\3673\\226-\\237\\244\\244\\365T\\373\\337\\355I\\300k&\\220bt\\007\\371w1\\300Et\\002\\331K=\\355>23\\361\\217\\262\\274iE\\035\\002pb9\\225\\n\\3554\\305\\232\\376\\031\\273\\215\\204\\217\\022&=9\\'\\347\\\\Q\\336z\\252\\306\\330\\341?\\321\\2004y9\\023\\3654\\232\\207j i\\261\\374\\007\\221\\357\\303\\226Qvs\\212\\360\\2178d\\220\\274H\\025\\205\\255\\224\\360\\304\\321\\2515r\\332g\\222\\354*\\236\\363c<\\264\\240\\227Z\\236\\035\\345P\\356M\\264p\\201}GOE\\361\\245\\276\\255:\\3102\\342a;\\366\\314Z/\\207\\230*(\\001\\215?\\341\\361\\271V\\244\\377\\230\\314\\315\\216\\213_\\203\\263I\\300\\302ZD-2\\004l~,\\023\\313v\\253\\362\\274\\202B0\\326\\265v\\342\\326\\206l\\024\\365\\364\\302\\234-J8I\\300[v/1(\\244BT\\206Wy\\304$\\330k\\303\\207\\245\\036\\271j\\231m\\361C\\317\\004\\352\\265\\336\\342]A\\022\\030\\335\\210\\361\\037h\\376\\005a}w\\316\\356Q\\257\\252\\371\\306\\252\\231c\\016i\\251`n\\350[f\\375_\\237L\\003\\333\\r\\000k\\244Fz\\316\\026\\242|q(0\\006\\n+\\006\\001\\004\\001\\203\\217U\\t\\002\\240\\\"\\004 &\\305\\254Wu\\256\\0216\\334\\306a\\313\\371\\255\\235@\\366\\237\\361\\261RZ\\203\\203\\252i\\237\\377EPT\\275(;\\006\\n+\\006\\001\\004\\001\\203\\217U\\010\\001\\240-0+\\014&https://standalone.storage.bwave.io/v1\\002\\001\\0010\\000\"\n",
      "\n",
      "error {\n",
      "  code: 913\n",
      "  message: \"(913: could not decrypt message)\"\n",
      "}\n",
      "\n",
      "content: \"hello world\"\n",
      "\n"
     ]
    }
   ],
   "source": [
    "# test encryption/decryption\n",
    "msg = \"hello world\"\n",
    "uri = \"smarthome/light/result\"\n",
    "encryptResult = wave.EncryptMessage(\n",
    "    wv.EncryptMessageParams(\n",
    "        namespace=homeserver.namespace(), \n",
    "        resource=uri, \n",
    "        content=bytes(msg,\"utf8\")))\n",
    "print(encryptResult)\n",
    "\n",
    "# try decrypt it\n",
    "decryptResult1 = wave.DecryptMessage(\n",
    "    wv.DecryptMessageParams(\n",
    "        perspective= perspective,\n",
    "        ciphertext= encryptResult.ciphertext,\n",
    "        resyncFirst= True))\n",
    "\n",
    "print (decryptResult1)\n",
    "\n",
    "# grant permissions from the home server to us\n",
    "homeserver.grant_permissions_to(entity.hash)\n",
    "\n",
    "# try decrypt again\n",
    "decryptResult2 = wave.DecryptMessage(\n",
    "    wv.DecryptMessageParams(\n",
    "        perspective= perspective,\n",
    "        ciphertext= encryptResult.ciphertext,\n",
    "        resyncFirst= True))\n",
    "\n",
    "print (decryptResult2)"
   ]
  },
  {
   "cell_type": "code",
   "execution_count": null,
   "metadata": {},
   "outputs": [],
   "source": [
    "\n",
    "entity = agent.CreateEntity(wv.CreateEntityParams())\n",
    "if entity.error.code != 0:\n",
    "    raise Exception(entity.error)\n",
    "agent.PublishEntity(wv.PublishEntityParams(DER=entity.PublicDER))\n",
    "perspective=wv.Perspective(\n",
    "    entitySecret=wv.EntitySecret(DER=entity.SecretDER)\n",
    ")\n",
    "proof = agent.BuildRTreeProof(wv.BuildRTreeProofParams(\n",
    "    perspective=perspective,\n",
    "    namespace=hs.namespace(),\n",
    "    resyncFirst=True,\n",
    "    statements=[\n",
    "        wv.RTreePolicyStatement(\n",
    "            permissionSet=smarthome_pset,\n",
    "            permissions=[\"actuate\"],\n",
    "            resource=\"smarthome/light/control\",\n",
    "        )\n",
    "    ]\n",
    "))\n",
    "# should have no permissions\n",
    "print (\"first attempt without permissions:\")\n",
    "print (proof.error)\n",
    "\n",
    "hs.grant_permissions_to(entity.hash)\n",
    "proof2 = agent.BuildRTreeProof(wv.BuildRTreeProofParams(\n",
    "    perspective=perspective,\n",
    "    namespace=hs.namespace(),\n",
    "    resyncFirst=True,\n",
    "    statements=[\n",
    "        wv.RTreePolicyStatement(\n",
    "            permissionSet=smarthome_pset,\n",
    "            permissions=[\"write\"],\n",
    "            resource=\"smarthome/light/control\",\n",
    "        ),\n",
    "      wv.RTreePolicyStatement(\n",
    "            permissionSet=smarthome_pset,\n",
    "            permissions=[\"read\"],\n",
    "            resource=\"smarthome/light/report\",\n",
    "        )\n",
    "    ]\n",
    "))\n",
    "if proof2.error.code != 0:\n",
    "    raise Exception(proof2.error)"
   ]
  },
  {
   "cell_type": "code",
   "execution_count": 2,
   "metadata": {},
   "outputs": [
    {
     "data": {
      "text/plain": [
       "<paho.mqtt.client.MQTTMessageInfo at 0x7f7e8b0b6138>"
      ]
     },
     "execution_count": 2,
     "metadata": {},
     "output_type": "execute_result"
    }
   ],
   "source": [
    "packed = pack_payload(proof2.proofDER, json.dumps({'state': 'on'}))\n",
    "client.publish(\"michael/smarthome/light/control\", packed)"
   ]
  },
  {
   "cell_type": "code",
   "execution_count": 3,
   "metadata": {},
   "outputs": [
    {
     "data": {
      "text/plain": [
       "<paho.mqtt.client.MQTTMessageInfo at 0x7f7e8b0b6728>"
      ]
     },
     "execution_count": 3,
     "metadata": {},
     "output_type": "execute_result"
    },
    {
     "name": "stdout",
     "output_type": "stream",
     "text": [
      "michael/smarthome/light/control\n",
      "got light command\n",
      "\n",
      "michael/smarthome/thermostat/control\n",
      "thermostat command {'hsp': 70, 'csp': 78}\n",
      "michael/smarthome/light/control\n",
      "got light command\n",
      "\n",
      "michael/smarthome/thermostat/control\n",
      "thermostat command {'hsp': 68}\n"
     ]
    }
   ],
   "source": [
    "packed = pack_payload(proof3.proofDER, json.dumps({'hsp': 68}))\n",
    "client.publish(\"michael/smarthome/thermostat/control\", packed)"
   ]
  },
  {
   "cell_type": "code",
   "execution_count": null,
   "metadata": {},
   "outputs": [],
   "source": []
  }
 ],
 "metadata": {
  "kernelspec": {
   "display_name": "Python 3",
   "language": "python",
   "name": "python3"
  },
  "language_info": {
   "codemirror_mode": {
    "name": "ipython",
    "version": 3
   },
   "file_extension": ".py",
   "mimetype": "text/x-python",
   "name": "python",
   "nbconvert_exporter": "python",
   "pygments_lexer": "ipython3",
   "version": "3.6.3"
  }
 },
 "nbformat": 4,
 "nbformat_minor": 2
}
