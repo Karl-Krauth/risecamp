{
 "cells": [
  {
   "cell_type": "markdown",
   "metadata": {},
   "source": [
    "# RL Exercise 6 - Training with Ray and Serving with Clipper\n",
    "\n",
    "**GOAL:** The goal of this exercise is to show how to train a policy with Ray and to deploy it with Clipper in a fun, interactive way.\n",
    "\n",
    "We will train an agent to play Pong, and then we will play Pong against the policy that we trained."
   ]
  },
  {
   "cell_type": "code",
   "execution_count": 1,
   "metadata": {},
   "outputs": [
    {
     "name": "stdout",
     "output_type": "stream",
     "text": [
      "WARNING:tensorflow:From /opt/conda/lib/python3.6/site-packages/tensorflow/contrib/learn/python/learn/datasets/base.py:198: retry (from tensorflow.contrib.learn.python.learn.datasets.base) is deprecated and will be removed in a future version.\n",
      "Instructions for updating:\n",
      "Use the retry module or similar alternatives.\n",
      "WARNING: lz4 not available, disabling sample compression. This will significantly impact RLlib performance. To install lz4, run `pip install lz4`.\n"
     ]
    }
   ],
   "source": [
    "from __future__ import absolute_import\n",
    "from __future__ import division\n",
    "from __future__ import print_function\n",
    "\n",
    "import gym\n",
    "import pong_py\n",
    "import ray\n",
    "\n",
    "from ray.tune.registry import register_env\n",
    "from ray.rllib.agents import ppo"
   ]
  },
  {
   "cell_type": "markdown",
   "metadata": {},
   "source": [
    "Start Ray."
   ]
  },
  {
   "cell_type": "code",
   "execution_count": 2,
   "metadata": {},
   "outputs": [
    {
     "name": "stderr",
     "output_type": "stream",
     "text": [
      "Process STDOUT and STDERR is being redirected to /tmp/raylogs/.\n",
      "Waiting for redis server at 127.0.0.1:38692 to respond...\n",
      "Waiting for redis server at 127.0.0.1:46181 to respond...\n",
      "Starting local scheduler with the following resources: {'CPU': 8, 'GPU': 0}.\n",
      "\n",
      "======================================================================\n",
      "View the web UI at http://localhost:8890/notebooks/ray_ui95792.ipynb?token=bb4e994845ec52aa82aadf1292e845b9960f08dde2e40a31\n",
      "======================================================================\n",
      "\n"
     ]
    },
    {
     "data": {
      "text/plain": [
       "{'node_ip_address': '172.17.0.2',\n",
       " 'redis_address': '172.17.0.2:38692',\n",
       " 'object_store_addresses': [ObjectStoreAddress(name='/tmp/plasma_store28596440', manager_name='/tmp/plasma_manager89405905', manager_port=59233)],\n",
       " 'local_scheduler_socket_names': ['/tmp/scheduler46577377'],\n",
       " 'raylet_socket_names': [],\n",
       " 'webui_url': 'http://localhost:8890/notebooks/ray_ui95792.ipynb?token=bb4e994845ec52aa82aadf1292e845b9960f08dde2e40a31'}"
      ]
     },
     "execution_count": 2,
     "metadata": {},
     "output_type": "execute_result"
    }
   ],
   "source": [
    "ray.init()"
   ]
  },
  {
   "cell_type": "markdown",
   "metadata": {},
   "source": [
    "Instantiate an agent that can be trained using Proximal Policy Optimization (PPO)."
   ]
  },
  {
   "cell_type": "code",
   "execution_count": 3,
   "metadata": {},
   "outputs": [
    {
     "name": "stdout",
     "output_type": "stream",
     "text": [
      "Created LogSyncer for /home/jovyan/ray_results/2018-09-22_01-13-33qtkbcbyz -> None\n",
      "\u001b[33mWARN: gym.spaces.Box autodetected dtype as <class 'numpy.float32'>. Please provide explicit dtype.\u001b[0m\n",
      "LocalMultiGPUOptimizer devices ['/cpu:0']\n"
     ]
    }
   ],
   "source": [
    "def env_creator(env_config):\n",
    "    return pong_py.PongJSEnv()\n",
    "\n",
    "register_env(\"my_env\", env_creator)\n",
    "trainer = ppo.PPOAgent(env=\"my_env\", config={\n",
    "    \"env_config\": {},  # config to pass to env creator\n",
    "})"
   ]
  },
  {
   "cell_type": "markdown",
   "metadata": {},
   "source": [
    "Train the `PPOAgent` for some number of iterations.\n",
    "\n",
    "**EXERCISE:** You will need to experiment with the number of iterations as well as with the configuration to get the agent to learn something reasonable."
   ]
  },
  {
   "cell_type": "code",
   "execution_count": 4,
   "metadata": {},
   "outputs": [
    {
     "name": "stdout",
     "output_type": "stream",
     "text": [
      "== sgd epochs ==\n",
      "0 {'cur_lr': 4.9999998736893758e-05, 'total_loss': 1948.661, 'policy_loss': -0.002436047, 'vf_loss': 1948.6635, 'vf_explained_var': 0.0014074483, 'kl': 8.1588172e-05, 'entropy': 1.0985229}\n",
      "1 {'cur_lr': 4.9999998736893758e-05, 'total_loss': 1945.5887, 'policy_loss': -0.0039126608, 'vf_loss': 1945.5924, 'vf_explained_var': 0.0052025146, 'kl': 0.00040262163, 'entropy': 1.0982022}\n",
      "2 {'cur_lr': 4.9999998736893758e-05, 'total_loss': 1943.6976, 'policy_loss': -0.0053693065, 'vf_loss': 1943.7025, 'vf_explained_var': 0.0081088962, 'kl': 0.0010970773, 'entropy': 1.0975143}\n",
      "3 {'cur_lr': 4.9999998736893758e-05, 'total_loss': 1942.8845, 'policy_loss': -0.0071504405, 'vf_loss': 1942.8915, 'vf_explained_var': 0.0078637116, 'kl': 0.0020374653, 'entropy': 1.09658}\n",
      "4 {'cur_lr': 4.9999998736893758e-05, 'total_loss': 1942.2535, 'policy_loss': -0.0090445895, 'vf_loss': 1942.2617, 'vf_explained_var': 0.008061734, 'kl': 0.0035544909, 'entropy': 1.0950747}\n",
      "5 {'cur_lr': 4.9999998736893758e-05, 'total_loss': 1941.7262, 'policy_loss': -0.010985773, 'vf_loss': 1941.7358, 'vf_explained_var': 0.0079719583, 'kl': 0.0069642644, 'entropy': 1.0916795}\n",
      "6 {'cur_lr': 4.9999998736893758e-05, 'total_loss': 1941.1732, 'policy_loss': -0.012900732, 'vf_loss': 1941.1844, 'vf_explained_var': 0.0078275856, 'kl': 0.0092060883, 'entropy': 1.0894867}\n",
      "7 {'cur_lr': 4.9999998736893758e-05, 'total_loss': 1940.5291, 'policy_loss': -0.014128485, 'vf_loss': 1940.5409, 'vf_explained_var': 0.0077559757, 'kl': 0.012612912, 'entropy': 1.0861467}\n",
      "8 {'cur_lr': 4.9999998736893758e-05, 'total_loss': 1939.7737, 'policy_loss': -0.014957187, 'vf_loss': 1939.7859, 'vf_explained_var': 0.007390847, 'kl': 0.013752174, 'entropy': 1.0850556}\n",
      "9 {'cur_lr': 4.9999998736893758e-05, 'total_loss': 1938.8536, 'policy_loss': -0.015473515, 'vf_loss': 1938.8662, 'vf_explained_var': 0.0072491956, 'kl': 0.014696606, 'entropy': 1.0841444}\n",
      "10 {'cur_lr': 4.9999998736893758e-05, 'total_loss': 1937.76, 'policy_loss': -0.016017478, 'vf_loss': 1937.7728, 'vf_explained_var': 0.0065579182, 'kl': 0.015838016, 'entropy': 1.0830482}\n",
      "11 {'cur_lr': 4.9999998736893758e-05, 'total_loss': 1936.5354, 'policy_loss': -0.016197007, 'vf_loss': 1936.5481, 'vf_explained_var': 0.0060804486, 'kl': 0.016563375, 'entropy': 1.0823554}\n",
      "12 {'cur_lr': 4.9999998736893758e-05, 'total_loss': 1935.2714, 'policy_loss': -0.016292792, 'vf_loss': 1935.2845, 'vf_explained_var': 0.0056217061, 'kl': 0.016747544, 'entropy': 1.0821887}\n",
      "13 {'cur_lr': 4.9999998736893758e-05, 'total_loss': 1933.9326, 'policy_loss': -0.016544441, 'vf_loss': 1933.9456, 'vf_explained_var': 0.004863645, 'kl': 0.017133655, 'entropy': 1.0818319}\n",
      "14 {'cur_lr': 4.9999998736893758e-05, 'total_loss': 1932.5602, 'policy_loss': -0.016855869, 'vf_loss': 1932.5736, 'vf_explained_var': 0.0046235612, 'kl': 0.017733062, 'entropy': 1.0812459}\n",
      "15 {'cur_lr': 4.9999998736893758e-05, 'total_loss': 1931.2452, 'policy_loss': -0.017173225, 'vf_loss': 1931.2587, 'vf_explained_var': 0.0039478042, 'kl': 0.01862455, 'entropy': 1.0803941}\n",
      "16 {'cur_lr': 4.9999998736893758e-05, 'total_loss': 1930.2063, 'policy_loss': -0.016987, 'vf_loss': 1930.2198, 'vf_explained_var': 0.0036941632, 'kl': 0.017945714, 'entropy': 1.0810667}\n",
      "17 {'cur_lr': 4.9999998736893758e-05, 'total_loss': 1929.626, 'policy_loss': -0.017230392, 'vf_loss': 1929.6393, 'vf_explained_var': 0.0038123035, 'kl': 0.019175742, 'entropy': 1.0798707}\n",
      "18 {'cur_lr': 4.9999998736893758e-05, 'total_loss': 1929.2722, 'policy_loss': -0.017273014, 'vf_loss': 1929.2859, 'vf_explained_var': 0.0037968119, 'kl': 0.017668441, 'entropy': 1.0813345}\n",
      "19 {'cur_lr': 4.9999998736893758e-05, 'total_loss': 1929.0787, 'policy_loss': -0.017268458, 'vf_loss': 1929.0925, 'vf_explained_var': 0.0038015959, 'kl': 0.017692754, 'entropy': 1.0813367}\n",
      "20 {'cur_lr': 4.9999998736893758e-05, 'total_loss': 1928.9768, 'policy_loss': -0.017371975, 'vf_loss': 1928.9907, 'vf_explained_var': 0.0035618218, 'kl': 0.01834281, 'entropy': 1.080705}\n",
      "21 {'cur_lr': 4.9999998736893758e-05, 'total_loss': 1928.9171, 'policy_loss': -0.017756363, 'vf_loss': 1928.931, 'vf_explained_var': 0.0036377849, 'kl': 0.018992634, 'entropy': 1.0800911}\n",
      "22 {'cur_lr': 4.9999998736893758e-05, 'total_loss': 1928.8618, 'policy_loss': -0.017692611, 'vf_loss': 1928.8757, 'vf_explained_var': 0.0033247105, 'kl': 0.018571666, 'entropy': 1.0805041}\n",
      "23 {'cur_lr': 4.9999998736893758e-05, 'total_loss': 1928.8209, 'policy_loss': -0.017732061, 'vf_loss': 1928.8348, 'vf_explained_var': 0.0031536433, 'kl': 0.018896803, 'entropy': 1.0802041}\n",
      "24 {'cur_lr': 4.9999998736893758e-05, 'total_loss': 1928.7925, 'policy_loss': -0.018050041, 'vf_loss': 1928.8068, 'vf_explained_var': 0.0033741535, 'kl': 0.019182038, 'entropy': 1.0799218}\n",
      "25 {'cur_lr': 4.9999998736893758e-05, 'total_loss': 1928.7767, 'policy_loss': -0.017923886, 'vf_loss': 1928.7909, 'vf_explained_var': 0.0031034639, 'kl': 0.018308153, 'entropy': 1.0807797}\n",
      "26 {'cur_lr': 4.9999998736893758e-05, 'total_loss': 1928.7621, 'policy_loss': -0.018234719, 'vf_loss': 1928.7765, 'vf_explained_var': 0.003036649, 'kl': 0.019314179, 'entropy': 1.0798202}\n",
      "27 {'cur_lr': 4.9999998736893758e-05, 'total_loss': 1928.7538, 'policy_loss': -0.018131636, 'vf_loss': 1928.7678, 'vf_explained_var': 0.0031166424, 'kl': 0.018819034, 'entropy': 1.0802951}\n",
      "28 {'cur_lr': 4.9999998736893758e-05, 'total_loss': 1928.7434, 'policy_loss': -0.018510548, 'vf_loss': 1928.7581, 'vf_explained_var': 0.0030205634, 'kl': 0.019974038, 'entropy': 1.0791794}\n",
      "29 {'cur_lr': 4.9999998736893758e-05, 'total_loss': 1928.739, 'policy_loss': -0.018268315, 'vf_loss': 1928.7538, 'vf_explained_var': 0.0029959409, 'kl': 0.0184799, 'entropy': 1.0806279}\n",
      "== sgd epochs ==\n",
      "0 {'cur_lr': 4.9999998736893758e-05, 'total_loss': 2181.6807, 'policy_loss': -0.0033942831, 'vf_loss': 2181.6843, 'vf_explained_var': 0.0085835075, 'kl': 7.113129e-05, 'entropy': 1.0781413}\n",
      "1 {'cur_lr': 4.9999998736893758e-05, 'total_loss': 2169.7605, 'policy_loss': -0.0049133734, 'vf_loss': 2169.7651, 'vf_explained_var': 0.0040139016, 'kl': 0.00067718001, 'entropy': 1.0775034}\n",
      "2 {'cur_lr': 4.9999998736893758e-05, 'total_loss': 2167.0295, 'policy_loss': -0.006435283, 'vf_loss': 2167.0349, 'vf_explained_var': 0.0035568648, 'kl': 0.0018109425, 'entropy': 1.0784849}\n",
      "3 {'cur_lr': 4.9999998736893758e-05, 'total_loss': 2166.9321, 'policy_loss': -0.0076522361, 'vf_loss': 2166.9385, 'vf_explained_var': 0.003349208, 'kl': 0.0037355279, 'entropy': 1.0775627}\n",
      "4 {'cur_lr': 4.9999998736893758e-05, 'total_loss': 2166.9048, 'policy_loss': -0.0091293994, 'vf_loss': 2166.9126, 'vf_explained_var': 0.0034681694, 'kl': 0.0055498639, 'entropy': 1.0751078}\n",
      "5 {'cur_lr': 4.9999998736893758e-05, 'total_loss': 2166.8918, 'policy_loss': -0.01014988, 'vf_loss': 2166.9004, 'vf_explained_var': 0.0034383188, 'kl': 0.0075025391, 'entropy': 1.0742744}\n",
      "6 {'cur_lr': 4.9999998736893758e-05, 'total_loss': 2166.8853, 'policy_loss': -0.010738622, 'vf_loss': 2166.8948, 'vf_explained_var': 0.0032509335, 'kl': 0.0084562209, 'entropy': 1.0726413}\n",
      "7 {'cur_lr': 4.9999998736893758e-05, 'total_loss': 2166.8806, 'policy_loss': -0.011090196, 'vf_loss': 2166.8899, 'vf_explained_var': 0.0032399239, 'kl': 0.0096338075, 'entropy': 1.0705762}\n",
      "8 {'cur_lr': 4.9999998736893758e-05, 'total_loss': 2166.8801, 'policy_loss': -0.011538761, 'vf_loss': 2166.8896, 'vf_explained_var': 0.0035659499, 'kl': 0.0099199526, 'entropy': 1.0707655}\n",
      "9 {'cur_lr': 4.9999998736893758e-05, 'total_loss': 2166.8757, 'policy_loss': -0.011638467, 'vf_loss': 2166.8853, 'vf_explained_var': 0.0032211081, 'kl': 0.0099529987, 'entropy': 1.0711367}\n",
      "10 {'cur_lr': 4.9999998736893758e-05, 'total_loss': 2166.8745, 'policy_loss': -0.011639182, 'vf_loss': 2166.8843, 'vf_explained_var': 0.0032867924, 'kl': 0.009342541, 'entropy': 1.07068}\n",
      "11 {'cur_lr': 4.9999998736893758e-05, 'total_loss': 2166.8728, 'policy_loss': -0.012123415, 'vf_loss': 2166.8826, 'vf_explained_var': 0.0031110297, 'kl': 0.010403804, 'entropy': 1.0706691}\n",
      "12 {'cur_lr': 4.9999998736893758e-05, 'total_loss': 2166.8718, 'policy_loss': -0.01224791, 'vf_loss': 2166.8818, 'vf_explained_var': 0.0032257687, 'kl': 0.01039922, 'entropy': 1.0697563}\n",
      "13 {'cur_lr': 4.9999998736893758e-05, 'total_loss': 2166.8704, 'policy_loss': -0.012460778, 'vf_loss': 2166.8809, 'vf_explained_var': 0.0030017148, 'kl': 0.010759569, 'entropy': 1.0697049}\n"
     ]
    },
    {
     "name": "stdout",
     "output_type": "stream",
     "text": [
      "14 {'cur_lr': 4.9999998736893758e-05, 'total_loss': 2166.8696, 'policy_loss': -0.01242407, 'vf_loss': 2166.8801, 'vf_explained_var': 0.0030734346, 'kl': 0.010466518, 'entropy': 1.0698957}\n",
      "15 {'cur_lr': 4.9999998736893758e-05, 'total_loss': 2166.8701, 'policy_loss': -0.012696596, 'vf_loss': 2166.8809, 'vf_explained_var': 0.0028623766, 'kl': 0.011108991, 'entropy': 1.0686789}\n",
      "16 {'cur_lr': 4.9999998736893758e-05, 'total_loss': 2166.8674, 'policy_loss': -0.01281866, 'vf_loss': 2166.8782, 'vf_explained_var': 0.0030658015, 'kl': 0.010929956, 'entropy': 1.0690696}\n",
      "17 {'cur_lr': 4.9999998736893758e-05, 'total_loss': 2166.8694, 'policy_loss': -0.0130394, 'vf_loss': 2166.8799, 'vf_explained_var': 0.0029515682, 'kl': 0.011486221, 'entropy': 1.069057}\n",
      "18 {'cur_lr': 4.9999998736893758e-05, 'total_loss': 2166.8677, 'policy_loss': -0.013171802, 'vf_loss': 2166.8784, 'vf_explained_var': 0.0029215158, 'kl': 0.011560221, 'entropy': 1.0687693}\n",
      "19 {'cur_lr': 4.9999998736893758e-05, 'total_loss': 2166.8672, 'policy_loss': -0.013372362, 'vf_loss': 2166.8784, 'vf_explained_var': 0.0030506484, 'kl': 0.011593954, 'entropy': 1.0691642}\n",
      "20 {'cur_lr': 4.9999998736893758e-05, 'total_loss': 2166.8667, 'policy_loss': -0.013324208, 'vf_loss': 2166.8779, 'vf_explained_var': 0.0029675481, 'kl': 0.011604482, 'entropy': 1.0685812}\n",
      "21 {'cur_lr': 4.9999998736893758e-05, 'total_loss': 2166.8665, 'policy_loss': -0.013635198, 'vf_loss': 2166.8777, 'vf_explained_var': 0.0030038529, 'kl': 0.01162012, 'entropy': 1.0688752}\n",
      "22 {'cur_lr': 4.9999998736893758e-05, 'total_loss': 2166.8669, 'policy_loss': -0.013631247, 'vf_loss': 2166.8782, 'vf_explained_var': 0.0029154536, 'kl': 0.011823633, 'entropy': 1.0678962}\n",
      "23 {'cur_lr': 4.9999998736893758e-05, 'total_loss': 2166.8662, 'policy_loss': -0.013782033, 'vf_loss': 2166.8777, 'vf_explained_var': 0.0029059034, 'kl': 0.011969009, 'entropy': 1.0690994}\n",
      "24 {'cur_lr': 4.9999998736893758e-05, 'total_loss': 2166.866, 'policy_loss': -0.013703936, 'vf_loss': 2166.8774, 'vf_explained_var': 0.0028723497, 'kl': 0.01145502, 'entropy': 1.0692242}\n",
      "25 {'cur_lr': 4.9999998736893758e-05, 'total_loss': 2166.866, 'policy_loss': -0.014150577, 'vf_loss': 2166.8777, 'vf_explained_var': 0.0029300221, 'kl': 0.012364718, 'entropy': 1.0679227}\n",
      "26 {'cur_lr': 4.9999998736893758e-05, 'total_loss': 2166.8657, 'policy_loss': -0.014073672, 'vf_loss': 2166.8774, 'vf_explained_var': 0.0028535705, 'kl': 0.011891373, 'entropy': 1.0693104}\n",
      "27 {'cur_lr': 4.9999998736893758e-05, 'total_loss': 2166.8655, 'policy_loss': -0.014407713, 'vf_loss': 2166.8774, 'vf_explained_var': 0.0028688582, 'kl': 0.012557747, 'entropy': 1.0684372}\n",
      "28 {'cur_lr': 4.9999998736893758e-05, 'total_loss': 2166.8657, 'policy_loss': -0.014169265, 'vf_loss': 2166.8772, 'vf_explained_var': 0.0027975689, 'kl': 0.011642631, 'entropy': 1.0687177}\n",
      "29 {'cur_lr': 4.9999998736893758e-05, 'total_loss': 2166.8655, 'policy_loss': -0.014407263, 'vf_loss': 2166.8774, 'vf_explained_var': 0.0028233374, 'kl': 0.01244483, 'entropy': 1.069253}\n"
     ]
    }
   ],
   "source": [
    "for i in range(2):\n",
    "    result = trainer.train()"
   ]
  },
  {
   "cell_type": "markdown",
   "metadata": {},
   "source": [
    "Use the agent manually by calling `agent.compute_action` and see the rewards you get are consistent with the rewards printed during the training procedure."
   ]
  },
  {
   "cell_type": "code",
   "execution_count": 5,
   "metadata": {},
   "outputs": [
    {
     "name": "stdout",
     "output_type": "stream",
     "text": [
      "\u001b[33mWARN: gym.spaces.Box autodetected dtype as <class 'numpy.float32'>. Please provide explicit dtype.\u001b[0m\n",
      "40\n",
      "40\n",
      "264\n",
      "40\n",
      "40\n",
      "40\n",
      "40\n",
      "40\n",
      "163\n",
      "40\n",
      "163\n",
      "40\n",
      "163\n",
      "352\n",
      "40\n",
      "40\n",
      "40\n",
      "40\n",
      "40\n",
      "40\n"
     ]
    }
   ],
   "source": [
    "env = pong_py.PongJSEnv()\n",
    "\n",
    "for _ in range(20):\n",
    "    state = env.reset()\n",
    "    done = False\n",
    "    cumulative_reward = 0\n",
    "\n",
    "    while not done:\n",
    "        action = trainer.compute_action(state)\n",
    "        state, reward, done, _ = env.step(action)\n",
    "        cumulative_reward += reward\n",
    "\n",
    "    print(cumulative_reward)"
   ]
  },
  {
   "cell_type": "markdown",
   "metadata": {},
   "source": [
    "Checkpoint the agent so that the relevant model can be saved and deployed to Clipper. We save the name of the checkpoint file in `metadata.json` so the model container knows how to restore the policy checkpoint."
   ]
  },
  {
   "cell_type": "code",
   "execution_count": 6,
   "metadata": {},
   "outputs": [],
   "source": [
    "import os\n",
    "import json\n",
    "checkpoint_path = trainer.save()\n",
    "checkpoint_dir = os.path.dirname(checkpoint_path)\n",
    "checkpoint_file = os.path.basename(checkpoint_path)\n",
    "with open(os.path.join(checkpoint_dir, \"metadata.json\"), \"w\") as f:\n",
    "    json.dump({\"checkpoint\": checkpoint_file}, f)"
   ]
  },
  {
   "cell_type": "markdown",
   "metadata": {},
   "source": [
    "Let's initialize WAVE to use it to encrypt the model. You can read the WAVE notebook if you want to see the boilerplate"
   ]
  },
  {
   "cell_type": "code",
   "execution_count": 8,
   "metadata": {},
   "outputs": [],
   "source": [
    "%run WAVE.ipynb"
   ]
  },
  {
   "cell_type": "markdown",
   "metadata": {},
   "source": [
    "We will combine the model into a single file that can be encrypted with WAVE"
   ]
  },
  {
   "cell_type": "code",
   "execution_count": 7,
   "metadata": {},
   "outputs": [],
   "source": [
    "import tarfile\n",
    "import io\n",
    "\n",
    "model = io.BytesIO()\n",
    "with tarfile.open(fileobj=model, mode=\"w:gz\") as tar:\n",
    "        tar.add(checkpoint_dir, arcname=os.path.basename(checkpoint_dir))\n",
    "        "
   ]
  },
  {
   "cell_type": "markdown",
   "metadata": {},
   "source": [
    "Now we encrypt it:"
   ]
  },
  {
   "cell_type": "code",
   "execution_count": 11,
   "metadata": {},
   "outputs": [],
   "source": [
    "encrypt_response = wave.EncryptMessage(\n",
    "    wv.EncryptMessageParams(\n",
    "        # the namespace is the organization\n",
    "        namespace=orgNamespaceEntity.hash,\n",
    "        resource=\"models/pong\",\n",
    "        content=model.getvalue()))"
   ]
  },
  {
   "cell_type": "markdown",
   "metadata": {},
   "source": [
    "Now we would place this encrypted model somewhere where the final users of the model can obtain it"
   ]
  },
  {
   "cell_type": "code",
   "execution_count": 13,
   "metadata": {},
   "outputs": [],
   "source": [
    "ciphertext = encrypt_response.ciphertext"
   ]
  },
  {
   "cell_type": "markdown",
   "metadata": {},
   "source": [
    "Although the recipient is in the same notebook here, they are using a distinct WAVE entity and received permission to decrypt using a WAVE delegation"
   ]
  },
  {
   "cell_type": "code",
   "execution_count": 14,
   "metadata": {},
   "outputs": [],
   "source": [
    "decrypt_response = wave.DecryptMessage(wv.DecryptMessageParams(\n",
    "        perspective=wv.Perspective(\n",
    "            entitySecret=wv.EntitySecret(DER=recipientEntity.SecretDER)),\n",
    "        ciphertext=ciphertext,\n",
    "        resyncFirst= True))\n",
    "if decrypt_response.error.code != 0:\n",
    "    raise Exception(resp.error.Message)"
   ]
  },
  {
   "cell_type": "code",
   "execution_count": 15,
   "metadata": {},
   "outputs": [],
   "source": [
    "decryptedpath = \"outputmodel\"\n",
    "decrypted_file = os.path.join(decryptedpath,checkpoint_file)\n",
    "decryptedmodel = io.BytesIO(decrypt_response.content)\n",
    "with tarfile.open(fileobj=decryptedmodel, mode=\"r:gz\") as tar:\n",
    "    tar.extractall(path=decryptedpath)"
   ]
  },
  {
   "cell_type": "markdown",
   "metadata": {},
   "source": [
    "The decrypted model is now available at `decrypted_file`"
   ]
  },
  {
   "cell_type": "markdown",
   "metadata": {},
   "source": [
    "## Play Against the Policy\n",
    "\n",
    "In this section, we will play Pong against the policy that we just trained. The game will be played in your browser, and the policy that we trained will be served by Clipper."
   ]
  },
  {
   "cell_type": "markdown",
   "metadata": {},
   "source": [
    "**EXERCISE:** Deploy your policy using Clipper. Follow the instructions that get printed below to play Pong against the deployed policy. You'll need to deploy all of the data that is saved in the directory `os.path.dirname(checkpoint_path)`."
   ]
  },
  {
   "cell_type": "markdown",
   "metadata": {},
   "source": [
    "Start by importing the `clipper_admin` library and use that to create a new Clipper instance to serve the policy."
   ]
  },
  {
   "cell_type": "markdown",
   "metadata": {},
   "source": [
    "When you create your ClipperConnection, you need to tell it how to communicate with the Docker service and Clipper. You can use the following command to get the Docker IP address. Use that address when you create your `ClipperConnection` in the next step."
   ]
  },
  {
   "cell_type": "code",
   "execution_count": 16,
   "metadata": {},
   "outputs": [
    {
     "ename": "ModuleNotFoundError",
     "evalue": "No module named 'subprocess32'",
     "output_type": "error",
     "traceback": [
      "\u001b[0;31m---------------------------------------------------------------------------\u001b[0m",
      "\u001b[0;31mModuleNotFoundError\u001b[0m                       Traceback (most recent call last)",
      "\u001b[0;32m<ipython-input-16-3a08e905b81f>\u001b[0m in \u001b[0;36m<module>\u001b[0;34m()\u001b[0m\n\u001b[1;32m      2\u001b[0m \u001b[0;32mimport\u001b[0m \u001b[0mlogging\u001b[0m\u001b[0;34m\u001b[0m\u001b[0m\n\u001b[1;32m      3\u001b[0m \u001b[0;32mimport\u001b[0m \u001b[0msys\u001b[0m\u001b[0;34m\u001b[0m\u001b[0m\n\u001b[0;32m----> 4\u001b[0;31m \u001b[0;32mimport\u001b[0m \u001b[0msubprocess32\u001b[0m \u001b[0;32mas\u001b[0m \u001b[0msubprocess\u001b[0m\u001b[0;34m\u001b[0m\u001b[0m\n\u001b[0m\u001b[1;32m      5\u001b[0m \u001b[0mlogger\u001b[0m \u001b[0;34m=\u001b[0m \u001b[0mlogging\u001b[0m\u001b[0;34m.\u001b[0m\u001b[0mgetLogger\u001b[0m\u001b[0;34m(\u001b[0m\u001b[0;34m)\u001b[0m\u001b[0;34m\u001b[0m\u001b[0m\n\u001b[1;32m      6\u001b[0m \u001b[0mlogger\u001b[0m\u001b[0;34m.\u001b[0m\u001b[0msetLevel\u001b[0m\u001b[0;34m(\u001b[0m\u001b[0mlogging\u001b[0m\u001b[0;34m.\u001b[0m\u001b[0mINFO\u001b[0m\u001b[0;34m)\u001b[0m\u001b[0;34m\u001b[0m\u001b[0m\n",
      "\u001b[0;31mModuleNotFoundError\u001b[0m: No module named 'subprocess32'"
     ]
    }
   ],
   "source": [
    "# Make logging work correctly in the Jupyter notebook\n",
    "import logging\n",
    "import sys\n",
    "import subprocess32 as subprocess\n",
    "logger = logging.getLogger()\n",
    "logger.setLevel(logging.INFO)\n",
    "\n",
    "from clipper_admin import DockerContainerManager, ClipperConnection\n",
    "docker_ip = subprocess.check_output(\"./get_docker_ip.sh\").strip()\n",
    "clipper_conn = ClipperConnection(DockerContainerManager(docker_ip_address=docker_ip))\n",
    "# Add a call to stop all in case you still have Clipper running from the earlier exercises\n",
    "clipper_conn.stop_all()\n",
    "clipper_conn.start_clipper()"
   ]
  },
  {
   "cell_type": "markdown",
   "metadata": {},
   "source": [
    "Next, deploy the saved policy checkpoint to Clipper using a Docker image we created for this exercise (similar to the TensorFlow model container in the Clipper tutorial). If you're curious, you can find the custom model container code on [GitHub](https://github.com/ucbrise/risecamp/blob/077aa51078e2043d4d3d2d539e256c30c259678e/rl_and_pong/pong_model_container.py)."
   ]
  },
  {
   "cell_type": "code",
   "execution_count": null,
   "metadata": {
    "collapsed": true
   },
   "outputs": [],
   "source": [
    "import os\n",
    "model_name = \"pong-policy\"\n",
    "app_name = \"pong\"\n",
    "clipper_conn.build_and_deploy_model(\n",
    "    name=model_name,\n",
    "    version=1,\n",
    "    input_type=\"doubles\",\n",
    "    model_data_path=os.path.dirname(decrypted_file),\n",
    "    base_image=\"clipper/risecamp-pong-container\"\n",
    ")"
   ]
  },
  {
   "cell_type": "markdown",
   "metadata": {},
   "source": [
    "Finally, register a Clipper application and link it the deployed policy model."
   ]
  },
  {
   "cell_type": "code",
   "execution_count": null,
   "metadata": {
    "collapsed": true
   },
   "outputs": [],
   "source": [
    "app_name = \"pong\"\n",
    "clipper_conn.register_application(name=app_name, default_output=\"0\", input_type=\"doubles\", slo_micros=100000)\n",
    "clipper_conn.link_model_to_app(app_name=app_name, model_name=model_name)"
   ]
  },
  {
   "cell_type": "markdown",
   "metadata": {},
   "source": [
    "Now that you have deployed your policy to Clipper, you will start a Pong application that will let you play against your policy in the browser.\n",
    "\n",
    "When you start the application, you need to tell it where Clipper is running in order for the Pong application to request predictions from Clipper. `ClipperConnection` provides the `get_query_addr()` method to get the IP address and port on which Clipper is listening for incoming prediction requests."
   ]
  },
  {
   "cell_type": "code",
   "execution_count": null,
   "metadata": {
    "collapsed": true
   },
   "outputs": [],
   "source": [
    "clipper_addr = clipper_conn.get_query_addr()\n",
    "print(\"Clipper address: {}\".format(clipper_addr))"
   ]
  },
  {
   "cell_type": "markdown",
   "metadata": {},
   "source": [
    "Now you can start the Pong webserver. It will print out the URL it's running on after it starts. Copy and paste that URL into your browser and press \"1\" to play against your policy!"
   ]
  },
  {
   "cell_type": "code",
   "execution_count": null,
   "metadata": {
    "collapsed": true
   },
   "outputs": [],
   "source": [
    "import subprocess32 as subprocess\n",
    "server_handle = subprocess.Popen([\"./start_webserver.sh\", clipper_addr], stdout=subprocess.PIPE)\n",
    "print(server_handle.stdout.readline().strip())"
   ]
  },
  {
   "cell_type": "markdown",
   "metadata": {},
   "source": [
    "## Deploy a New Policy\n",
    "\n",
    "The first policy that you deploy probably won't be a very strong competitor, especially if you only trained it for a few iterations. Try training it for more iterations and deploying the new policy to Clipper. Clipper will automatically switch the Pong application to query the new version of the policy. You don't need to reload the page or even restart the game.\n",
    "\n",
    "For your convenience, we've copied the relevant cells from above to train the policy for more iterations and deploy it Clipper. You can run this cell as many times as you want. Don't forget to increment the version number of the model each time you deploy to Clipper."
   ]
  },
  {
   "cell_type": "code",
   "execution_count": null,
   "metadata": {
    "collapsed": true
   },
   "outputs": [],
   "source": [
    "# Train for more iterations\n",
    "for i in range(50):\n",
    "    result = agent.train()\n",
    "    \n",
    "# Save the new policy\n",
    "checkpoint_path = agent.save()\n",
    "checkpoint_dir = os.path.dirname(checkpoint_path)\n",
    "checkpoint_file = os.path.basename(checkpoint_path)\n",
    "with open(os.path.join(checkpoint_dir, \"metadata.json\"), \"w\") as f:\n",
    "    json.dump({\"checkpoint\": checkpoint_file}, f)\n",
    "    \n",
    "# Deploy the new policy to Clipper.\n",
    "clipper_conn.build_and_deploy_model(\n",
    "    name=model_name,\n",
    "    version=2, # If you run this more than once, don't forget to keep updating the version.\n",
    "    input_type=\"doubles\",\n",
    "    model_data_path=os.path.dirname(checkpoint_path),\n",
    "    base_image=\"clipper/risecamp-pong-container\"\n",
    ")"
   ]
  }
 ],
 "metadata": {
  "anaconda-cloud": {},
  "kernelspec": {
   "display_name": "Python 3",
   "language": "python",
   "name": "python3"
  },
  "language_info": {
   "codemirror_mode": {
    "name": "ipython",
    "version": 3
   },
   "file_extension": ".py",
   "mimetype": "text/x-python",
   "name": "python",
   "nbconvert_exporter": "python",
   "pygments_lexer": "ipython3",
   "version": "3.6.3"
  },
  "toc": {
   "nav_menu": {},
   "number_sections": true,
   "sideBar": true,
   "skip_h1_title": false,
   "toc_cell": false,
   "toc_position": {},
   "toc_section_display": "block",
   "toc_window_display": false
  }
 },
 "nbformat": 4,
 "nbformat_minor": 2
}
